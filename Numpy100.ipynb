{
 "cells": [
  {
   "cell_type": "markdown",
   "id": "5f89177d",
   "metadata": {},
   "source": [
    "## 1. Import the Numpy Package"
   ]
  },
  {
   "cell_type": "code",
   "execution_count": 1,
   "id": "4f2b83d0",
   "metadata": {},
   "outputs": [],
   "source": [
    "import numpy as np"
   ]
  },
  {
   "cell_type": "markdown",
   "id": "dff9d3e7",
   "metadata": {},
   "source": [
    "## 2. Print the Numpy version and the configuration"
   ]
  },
  {
   "cell_type": "code",
   "execution_count": 2,
   "id": "6e072a08",
   "metadata": {},
   "outputs": [
    {
     "name": "stdout",
     "output_type": "stream",
     "text": [
      "1.21.5\n"
     ]
    }
   ],
   "source": [
    "print(np.__version__)"
   ]
  },
  {
   "cell_type": "markdown",
   "id": "29313597",
   "metadata": {},
   "source": [
    "## 3. Create a vector of size 10"
   ]
  },
  {
   "cell_type": "code",
   "execution_count": 3,
   "id": "26a39aa2",
   "metadata": {},
   "outputs": [
    {
     "name": "stdout",
     "output_type": "stream",
     "text": [
      "[0. 0. 0. 0. 0. 0. 0. 0. 0. 0.]\n"
     ]
    }
   ],
   "source": [
    "Z = np.zeros(10)\n",
    "print(Z)"
   ]
  },
  {
   "cell_type": "markdown",
   "id": "1800272e",
   "metadata": {},
   "source": [
    "## 4. From the command, get the documentation of the Numpy's `add` function"
   ]
  },
  {
   "cell_type": "code",
   "execution_count": 4,
   "id": "ac5f81af",
   "metadata": {},
   "outputs": [
    {
     "name": "stdout",
     "output_type": "stream",
     "text": [
      "add(x1, x2, /, out=None, *, where=True, casting='same_kind', order='K', dtype=None, subok=True[, signature, extobj])\n",
      "\n",
      "Add arguments element-wise.\n",
      "\n",
      "Parameters\n",
      "----------\n",
      "x1, x2 : array_like\n",
      "    The arrays to be added.\n",
      "    If ``x1.shape != x2.shape``, they must be broadcastable to a common\n",
      "    shape (which becomes the shape of the output).\n",
      "out : ndarray, None, or tuple of ndarray and None, optional\n",
      "    A location into which the result is stored. If provided, it must have\n",
      "    a shape that the inputs broadcast to. If not provided or None,\n",
      "    a freshly-allocated array is returned. A tuple (possible only as a\n",
      "    keyword argument) must have length equal to the number of outputs.\n",
      "where : array_like, optional\n",
      "    This condition is broadcast over the input. At locations where the\n",
      "    condition is True, the `out` array will be set to the ufunc result.\n",
      "    Elsewhere, the `out` array will retain its original value.\n",
      "    Note that if an uninitialized `out` array is created via the default\n",
      "    ``out=None``, locations within it where the condition is False will\n",
      "    remain uninitialized.\n",
      "**kwargs\n",
      "    For other keyword-only arguments, see the\n",
      "    :ref:`ufunc docs <ufuncs.kwargs>`.\n",
      "\n",
      "Returns\n",
      "-------\n",
      "add : ndarray or scalar\n",
      "    The sum of `x1` and `x2`, element-wise.\n",
      "    This is a scalar if both `x1` and `x2` are scalars.\n",
      "\n",
      "Notes\n",
      "-----\n",
      "Equivalent to `x1` + `x2` in terms of array broadcasting.\n",
      "\n",
      "Examples\n",
      "--------\n",
      ">>> np.add(1.0, 4.0)\n",
      "5.0\n",
      ">>> x1 = np.arange(9.0).reshape((3, 3))\n",
      ">>> x2 = np.arange(3.0)\n",
      ">>> np.add(x1, x2)\n",
      "array([[  0.,   2.,   4.],\n",
      "       [  3.,   5.,   7.],\n",
      "       [  6.,   8.,  10.]])\n",
      "\n",
      "The ``+`` operator can be used as a shorthand for ``np.add`` on ndarrays.\n",
      "\n",
      ">>> x1 = np.arange(9.0).reshape((3, 3))\n",
      ">>> x2 = np.arange(3.0)\n",
      ">>> x1 + x2\n",
      "array([[ 0.,  2.,  4.],\n",
      "       [ 3.,  5.,  7.],\n",
      "       [ 6.,  8., 10.]])\n"
     ]
    }
   ],
   "source": [
    "!python -c \"import numpy; numpy.info(numpy.add)\""
   ]
  },
  {
   "cell_type": "markdown",
   "id": "c4ddab71",
   "metadata": {},
   "source": [
    "## 5. Create a vector of size and make the 5th value as 1"
   ]
  },
  {
   "cell_type": "code",
   "execution_count": 5,
   "id": "da1c01cd",
   "metadata": {},
   "outputs": [
    {
     "name": "stdout",
     "output_type": "stream",
     "text": [
      "[0. 0. 0. 0. 1. 0. 0. 0. 0. 0.]\n"
     ]
    }
   ],
   "source": [
    "Z = np.zeros(10)\n",
    "Z[4] = 1\n",
    "print(Z)"
   ]
  },
  {
   "cell_type": "markdown",
   "id": "0aa1084d",
   "metadata": {},
   "source": [
    "## 6. Create a vector, values ranging from 44 to 60"
   ]
  },
  {
   "cell_type": "code",
   "execution_count": 6,
   "id": "b2ee8456",
   "metadata": {},
   "outputs": [
    {
     "name": "stdout",
     "output_type": "stream",
     "text": [
      "[44 45 46 47 48 49 50 51 52 53 54 55 56 57 58 59 60]\n"
     ]
    }
   ],
   "source": [
    "Z = np.arange(44, 61)\n",
    "print(Z)"
   ]
  },
  {
   "cell_type": "markdown",
   "id": "1f25b513",
   "metadata": {},
   "source": [
    "## 7. Reverse a vector, where as the first element becomes last and the last element becomes first"
   ]
  },
  {
   "cell_type": "code",
   "execution_count": 7,
   "id": "6aec5a62",
   "metadata": {},
   "outputs": [
    {
     "name": "stdout",
     "output_type": "stream",
     "text": [
      "[60 59 58 57 56 55 54 53 52 51 50 49 48 47 46 45 44]\n"
     ]
    }
   ],
   "source": [
    "Z = np.arange(44, 61)\n",
    "Z = Z[::-1]\n",
    "print(Z)"
   ]
  },
  {
   "cell_type": "markdown",
   "id": "e902e51d",
   "metadata": {},
   "source": [
    "## 8. Create a 3X3 matrix with values ranging from 0 to 8"
   ]
  },
  {
   "cell_type": "code",
   "execution_count": 8,
   "id": "6f11d3b4",
   "metadata": {},
   "outputs": [
    {
     "name": "stdout",
     "output_type": "stream",
     "text": [
      "[[40 41 42]\n",
      " [43 44 45]\n",
      " [46 47 48]]\n"
     ]
    }
   ],
   "source": [
    "Z = np.arange(40, 49).reshape(3, 3)\n",
    "print(Z)"
   ]
  },
  {
   "cell_type": "markdown",
   "id": "f3f470f4",
   "metadata": {},
   "source": [
    "## 9. Find all indices of a non-zero element from a vector"
   ]
  },
  {
   "cell_type": "code",
   "execution_count": 9,
   "id": "8f9e93ba",
   "metadata": {},
   "outputs": [
    {
     "name": "stdout",
     "output_type": "stream",
     "text": [
      "(array([0, 2, 3, 5], dtype=int64),)\n"
     ]
    }
   ],
   "source": [
    "Z = np.nonzero([1, 0, 2, 33, 0, 44, 0, 0])\n",
    "print(Z)"
   ]
  },
  {
   "cell_type": "markdown",
   "id": "daeb701a",
   "metadata": {},
   "source": [
    "## 10. Create a Identity matrix - 3X3"
   ]
  },
  {
   "cell_type": "code",
   "execution_count": 10,
   "id": "d972706e",
   "metadata": {},
   "outputs": [
    {
     "name": "stdout",
     "output_type": "stream",
     "text": [
      "[[1. 0. 0.]\n",
      " [0. 1. 0.]\n",
      " [0. 0. 1.]]\n"
     ]
    }
   ],
   "source": [
    "Z = np.eye(3)\n",
    "print(Z)"
   ]
  },
  {
   "cell_type": "markdown",
   "id": "dce52451",
   "metadata": {},
   "source": [
    "## 11. Create a 3X3X3 - 3D Array with random values"
   ]
  },
  {
   "cell_type": "code",
   "execution_count": 11,
   "id": "a97d4db1",
   "metadata": {},
   "outputs": [
    {
     "name": "stdout",
     "output_type": "stream",
     "text": [
      "[[[0.83211808 0.8079423  0.16569131]\n",
      "  [0.09218174 0.64716254 0.20233437]\n",
      "  [0.23702122 0.7254483  0.34616596]]\n",
      "\n",
      " [[0.39631801 0.41348031 0.93304974]\n",
      "  [0.54997639 0.65000795 0.72763311]\n",
      "  [0.30494131 0.76017986 0.23530656]]\n",
      "\n",
      " [[0.96782271 0.70491541 0.72626566]\n",
      "  [0.80272799 0.44403129 0.8702657 ]\n",
      "  [0.99767238 0.48770537 0.65891024]]]\n"
     ]
    }
   ],
   "source": [
    "Z = np.random.random((3, 3, 3))\n",
    "print(Z)"
   ]
  },
  {
   "cell_type": "markdown",
   "id": "d81f2c98",
   "metadata": {},
   "source": [
    "## 12. Find the Minimum and Maximum value from a 10X10 array"
   ]
  },
  {
   "cell_type": "code",
   "execution_count": 12,
   "id": "27e2229d",
   "metadata": {},
   "outputs": [
    {
     "name": "stdout",
     "output_type": "stream",
     "text": [
      "The complete Array :  [[0.2958794  0.77030315 0.97215249 0.07308444 0.59567642 0.68253964\n",
      "  0.12803951 0.75620865 0.8280563  0.73738754]\n",
      " [0.10401196 0.9998486  0.21620737 0.55910858 0.30337629 0.29081644\n",
      "  0.01283581 0.57985507 0.19428387 0.23692809]\n",
      " [0.36693568 0.51017371 0.88513722 0.99485074 0.77084832 0.78552084\n",
      "  0.33659328 0.7438701  0.23256146 0.43930602]\n",
      " [0.82095154 0.13798872 0.21955288 0.80067511 0.47662598 0.14283544\n",
      "  0.12298022 0.83848384 0.1625201  0.4793279 ]\n",
      " [0.86129613 0.92625691 0.86456785 0.7441115  0.78497484 0.55573109\n",
      "  0.370773   0.85210783 0.90400411 0.11801549]\n",
      " [0.68492639 0.95050336 0.24799555 0.90406478 0.76680955 0.02079728\n",
      "  0.04560651 0.44844443 0.39640567 0.72428661]\n",
      " [0.71200095 0.02581144 0.94857709 0.52035025 0.12029047 0.83356322\n",
      "  0.93972421 0.31590232 0.74705654 0.41502354]\n",
      " [0.69708409 0.60920871 0.72119137 0.43841801 0.22674794 0.22018469\n",
      "  0.29790362 0.7576634  0.97047577 0.18583254]\n",
      " [0.42293241 0.11711956 0.26772973 0.5381735  0.91239673 0.64063971\n",
      "  0.87022805 0.43408906 0.65273281 0.03346838]\n",
      " [0.43490301 0.21439137 0.69918474 0.83737375 0.25119668 0.54896897\n",
      "  0.5585816  0.84438179 0.93808394 0.04509401]]\n",
      "The minimum value is :  0.012835807651097597\n",
      "The maximum value is :  0.9998486017610908\n"
     ]
    }
   ],
   "source": [
    "Z = np.random.random((10, 10))\n",
    "Zmin, Zmax = Z.min(), Z.max()\n",
    "print(\"The complete Array : \", Z)\n",
    "print(\"The minimum value is : \", Zmin)\n",
    "print(\"The maximum value is : \", Zmax)"
   ]
  },
  {
   "cell_type": "markdown",
   "id": "63ef51c9",
   "metadata": {},
   "source": [
    "## 13. Find the Mean value from a vector of size 30"
   ]
  },
  {
   "cell_type": "code",
   "execution_count": 13,
   "id": "b2f02bd5",
   "metadata": {},
   "outputs": [
    {
     "name": "stdout",
     "output_type": "stream",
     "text": [
      "The Array is :  [0.74472276 0.26616903 0.5949012  0.90522737 0.7795277  0.5808411\n",
      " 0.13298728 0.80963071 0.84206367 0.18657946 0.63513965 0.84539968\n",
      " 0.91045415 0.33851723 0.92431462 0.90245908 0.50145788 0.63430517\n",
      " 0.21659492 0.79534748 0.58015415 0.41434489 0.78582883 0.86317464\n",
      " 0.09583568 0.60024806 0.79841597 0.65325077 0.76843218 0.71950545]\n",
      "The mean value :  0.6275276918942339\n"
     ]
    }
   ],
   "source": [
    "Z = np.random.random(30)\n",
    "m = Z.mean()\n",
    "print(\"The Array is : \", Z)\n",
    "print(\"The mean value : \", m)"
   ]
  },
  {
   "cell_type": "markdown",
   "id": "20304dff",
   "metadata": {},
   "source": [
    "## 14. Create a 2D array like this:\n",
    "\n",
    "[[1, 1, 1, 1, 1]\n",
    "\n",
    " [1, 0, 0, 0, 1]\n",
    " \n",
    " [1, 0, 0, 0, 1]\n",
    " \n",
    " [1, 0, 0, 0, 1]\n",
    " \n",
    " [1, 1, 1, 1, 1]]"
   ]
  },
  {
   "cell_type": "code",
   "execution_count": 14,
   "id": "159c0a09",
   "metadata": {},
   "outputs": [
    {
     "name": "stdout",
     "output_type": "stream",
     "text": [
      "[[1. 1. 1. 1. 1.]\n",
      " [1. 0. 0. 0. 1.]\n",
      " [1. 0. 0. 0. 1.]\n",
      " [1. 0. 0. 0. 1.]\n",
      " [1. 1. 1. 1. 1.]]\n"
     ]
    }
   ],
   "source": [
    "Z = np.ones((5, 5)) # Create a 5X5 array with all 1\"\n",
    "Z[1:-1, 1:-1] = 0 # Replace the inside values as 0 and keep the borders as 1\n",
    "print(Z)"
   ]
  },
  {
   "cell_type": "markdown",
   "id": "f5895465",
   "metadata": {},
   "source": [
    "# 15. Below operations on `NaN` are invalid"
   ]
  },
  {
   "cell_type": "code",
   "execution_count": 15,
   "id": "10b46a96",
   "metadata": {},
   "outputs": [
    {
     "name": "stdout",
     "output_type": "stream",
     "text": [
      "Zero mutiplied by a NaN is Invalid operation :  nan\n",
      "NaN Comparisons are invalid :  False\n",
      "Infinity and NaN comparisons are invalid :  False\n",
      "Arithmeitc operations on NaN are invalid :  nan\n"
     ]
    }
   ],
   "source": [
    "print(\"Zero mutiplied by a NaN is Invalid operation : \", 0 * np.nan)\n",
    "print(\"NaN Comparisons are invalid : \", np.nan == np.nan)\n",
    "print(\"Infinity and NaN comparisons are invalid : \", np.inf > np.nan)\n",
    "print(\"Arithmeitc operations on NaN are invalid : \", np.nan - np.nan)"
   ]
  },
  {
   "cell_type": "markdown",
   "id": "65f1487a",
   "metadata": {},
   "source": [
    "# 16. A 5X5 matrix with 1,2,3,4 values positioned diagonaly"
   ]
  },
  {
   "cell_type": "code",
   "execution_count": 16,
   "id": "deedb49c",
   "metadata": {},
   "outputs": [
    {
     "name": "stdout",
     "output_type": "stream",
     "text": [
      "[[0 0 0 0 0]\n",
      " [1 0 0 0 0]\n",
      " [0 2 0 0 0]\n",
      " [0 0 3 0 0]\n",
      " [0 0 0 4 0]]\n"
     ]
    }
   ],
   "source": [
    "Z = np.diag(1+np.arange(4), k=-1) #The k value denotes the length of matrirx dimensions beyond the specified range \n",
    "print(Z)"
   ]
  },
  {
   "cell_type": "markdown",
   "id": "f309dcce",
   "metadata": {},
   "source": [
    "# 17. Create a 8X8 Checkerboard"
   ]
  },
  {
   "cell_type": "code",
   "execution_count": 17,
   "id": "7c92ce41",
   "metadata": {},
   "outputs": [
    {
     "name": "stdout",
     "output_type": "stream",
     "text": [
      "[[0 1 0 1 0 1 0 1]\n",
      " [1 0 1 0 1 0 1 0]\n",
      " [0 1 0 1 0 1 0 1]\n",
      " [1 0 1 0 1 0 1 0]\n",
      " [0 1 0 1 0 1 0 1]\n",
      " [1 0 1 0 1 0 1 0]\n",
      " [0 1 0 1 0 1 0 1]\n",
      " [1 0 1 0 1 0 1 0]]\n"
     ]
    }
   ],
   "source": [
    "Z = np.zeros((8,8),dtype=int) #The 8X8 matrix is initialized with all Zeros\n",
    "Z[1::2,::2] = 1 #Slice from the first row with 2 steps ahead and Slice all the columns with 2 steps ahead. Assign 1 to all the Sliced data\n",
    "Z[::2,1::2] = 1 #Slice from the begining of the row with 2 steps ahead and slice from the first column with 2 steps ahead. Assign 1 to all the Sliced data\n",
    "print(Z)"
   ]
  },
  {
   "cell_type": "markdown",
   "id": "bc7c0299",
   "metadata": {},
   "source": [
    "# 18. numpy.unravel_index - Converting a flat index or array of flat indices into a tuple of coordinates. What is the index of the 100th Element in a (6, 7, 8) array?"
   ]
  },
  {
   "cell_type": "code",
   "execution_count": 18,
   "id": "647b6359",
   "metadata": {},
   "outputs": [
    {
     "name": "stdout",
     "output_type": "stream",
     "text": [
      "(1, 5, 4)\n"
     ]
    }
   ],
   "source": [
    "print(np.unravel_index(100,(6,7,8)))"
   ]
  },
  {
   "cell_type": "markdown",
   "id": "e1f0ad6f",
   "metadata": {},
   "source": [
    "# 19. Prepare 8X8 Checkerboard using the `Numpy Title` function"
   ]
  },
  {
   "cell_type": "code",
   "execution_count": 19,
   "id": "f19b7e06",
   "metadata": {},
   "outputs": [
    {
     "name": "stdout",
     "output_type": "stream",
     "text": [
      "[[0 1 0 1 0 1 0 1]\n",
      " [1 0 1 0 1 0 1 0]\n",
      " [0 1 0 1 0 1 0 1]\n",
      " [1 0 1 0 1 0 1 0]\n",
      " [0 1 0 1 0 1 0 1]\n",
      " [1 0 1 0 1 0 1 0]\n",
      " [0 1 0 1 0 1 0 1]\n",
      " [1 0 1 0 1 0 1 0]]\n"
     ]
    }
   ],
   "source": [
    "Z = np.tile(np.array([[0,1],[1,0]]), (4,4)) #The title function accepts the arrays - in this case a 2D Array [[0,1], [1,0]] and a dimension - 4,4\n",
    "print(Z)"
   ]
  },
  {
   "cell_type": "markdown",
   "id": "90b02408",
   "metadata": {},
   "source": [
    "# 20. Normalize a 5X5 random matrix"
   ]
  },
  {
   "cell_type": "code",
   "execution_count": 20,
   "id": "e4fb150a",
   "metadata": {},
   "outputs": [
    {
     "name": "stdout",
     "output_type": "stream",
     "text": [
      "Original matrix\n",
      "[[0.11183559 0.99345776 0.06550511 0.4206888  0.37094229]\n",
      " [0.0150907  0.39290237 0.52066896 0.5594389  0.25956519]\n",
      " [0.3739915  0.83545043 0.52752848 0.2709671  0.13969435]\n",
      " [0.56982403 0.82402811 0.98462681 0.124332   0.06139331]\n",
      " [0.36368691 0.6708102  0.33839442 0.37233064 0.82662895]]\n",
      "--------------------------\n",
      "Normalized matrix\n",
      "[[0.09888404 1.         0.05152913 0.41456639 0.36371992]\n",
      " [0.         0.38616557 0.51675724 0.55638442 0.24988013]\n",
      " [0.36683655 0.83849892 0.52376843 0.26153415 0.1273588 ]\n",
      " [0.56699918 0.82682404 0.99097379 0.11165676 0.04732641]\n",
      " [0.35630411 0.67021829 0.33045238 0.36513897 0.8294824 ]]\n"
     ]
    }
   ],
   "source": [
    "Z = np.random.random((5,5))\n",
    "print(\"Original matrix\")\n",
    "print(Z)\n",
    "Zmax, Zmin = Z.max(), Z.min() #Max and Min value extraction\n",
    "Z = (Z - Zmin)/(Zmax - Zmin) #Scaling formula\n",
    "print(\"--------------------------\")\n",
    "print(\"Normalized matrix\")\n",
    "print(Z)"
   ]
  },
  {
   "cell_type": "markdown",
   "id": "4a246710",
   "metadata": {},
   "source": [
    "# 21. Create a custom dtype that describes a color as four unsigned bytes (RGBA)"
   ]
  },
  {
   "cell_type": "code",
   "execution_count": 21,
   "id": "4df77c89",
   "metadata": {},
   "outputs": [
    {
     "name": "stdout",
     "output_type": "stream",
     "text": [
      "[('r', 'u1'), ('g', 'u1'), ('b', 'u1'), ('a', 'u1')]\n"
     ]
    },
    {
     "name": "stderr",
     "output_type": "stream",
     "text": [
      "C:\\Users\\Bala\\AppData\\Local\\Temp\\ipykernel_14252\\2754396101.py:1: FutureWarning: Passing (type, 1) or '1type' as a synonym of type is deprecated; in a future version of numpy, it will be understood as (type, (1,)) / '(1,)type'.\n",
      "  color = np.dtype([(\"r\", np.ubyte, 1),\n"
     ]
    }
   ],
   "source": [
    "color = np.dtype([(\"r\", np.ubyte, 1),\n",
    "(\"g\", np.ubyte, 1),\n",
    "(\"b\", np.ubyte, 1),\n",
    "(\"a\", np.ubyte, 1)])\n",
    "print(color)"
   ]
  },
  {
   "cell_type": "markdown",
   "id": "18a539ea",
   "metadata": {},
   "source": [
    "# 22. Multiply a 5x3 matrix by a 3x2 matrix (real matrix product)"
   ]
  },
  {
   "cell_type": "code",
   "execution_count": 22,
   "id": "81ca8da5",
   "metadata": {},
   "outputs": [
    {
     "name": "stdout",
     "output_type": "stream",
     "text": [
      "The Matrix multiplication result is : \n",
      "[[3. 3.]\n",
      " [3. 3.]\n",
      " [3. 3.]\n",
      " [3. 3.]\n",
      " [3. 3.]]\n",
      "The Shape of the resulting matrix is :  (5, 2)\n"
     ]
    }
   ],
   "source": [
    "matrix_1 = np.ones((5, 3)) # A 5X3 matrix\n",
    "matrix_2 = np.ones((3, 2)) # A 3X2 matrix\n",
    "\n",
    "Z = np.dot(matrix_1, matrix_2)\n",
    "print(\"The Matrix multiplication result is : \")\n",
    "print(Z)\n",
    "print(\"The Shape of the resulting matrix is : \", Z.shape)"
   ]
  },
  {
   "cell_type": "markdown",
   "id": "c345bc3c",
   "metadata": {},
   "source": [
    "# 23. In a 1D Array negate all the elements between 3 and 8"
   ]
  },
  {
   "cell_type": "code",
   "execution_count": 23,
   "id": "62ba7497",
   "metadata": {},
   "outputs": [
    {
     "name": "stdout",
     "output_type": "stream",
     "text": [
      "The Original 1D array is : \n",
      "[ 0  1  2  3  4  5  6  7  8  9 10]\n",
      "Array after performing the negate operation in the 1D array : \n",
      "[ 0  1  2  3 -4 -5 -6 -7  8  9 10]\n"
     ]
    }
   ],
   "source": [
    "Z = np.arange(11)\n",
    "print(\"The Original 1D array is : \")\n",
    "print(Z)\n",
    "Z[(3 < Z) & (Z < 8)] *= -1 #Multiplying the elements between 3 and 8 by -1\n",
    "print(\"Array after performing the negate operation in the 1D array : \")\n",
    "print(Z)"
   ]
  },
  {
   "cell_type": "markdown",
   "id": "20c208fc",
   "metadata": {},
   "source": [
    "# 24. Perform the arithmetic operations on the range functions"
   ]
  },
  {
   "cell_type": "code",
   "execution_count": 24,
   "id": "72231740",
   "metadata": {},
   "outputs": [
    {
     "name": "stdout",
     "output_type": "stream",
     "text": [
      "9\n"
     ]
    }
   ],
   "source": [
    "print(sum(range(5),-1)) \n",
    "\n",
    "#The range function - range(5) returns the numbers between 0 and 5 -> 0,1,2,3,4\n",
    "#The -1 represents the axis"
   ]
  },
  {
   "cell_type": "markdown",
   "id": "b4276aa4",
   "metadata": {},
   "source": [
    "# 25. Power Expressions on the integer vector"
   ]
  },
  {
   "cell_type": "code",
   "execution_count": 25,
   "id": "08a5af3a",
   "metadata": {},
   "outputs": [
    {
     "name": "stdout",
     "output_type": "stream",
     "text": [
      "[ 1  2  3  4  5  6  7  8  9 10]\n",
      "Power Operations :  [         1          4         27        256       3125      46656\n",
      "     823543   16777216  387420489 1410065408]\n"
     ]
    }
   ],
   "source": [
    "Z = np.arange(1, 11)\n",
    "print(Z)\n",
    "\n",
    "print(\"Power Operations : \", Z**Z)  # 1**1, 2**2, 3**3, ...\n"
   ]
  },
  {
   "cell_type": "markdown",
   "id": "79d0dbdc",
   "metadata": {},
   "source": [
    "# 26. Arithmetic Operations on the Numpy Array"
   ]
  },
  {
   "cell_type": "code",
   "execution_count": 26,
   "id": "dd22d04e",
   "metadata": {},
   "outputs": [
    {
     "name": "stdout",
     "output_type": "stream",
     "text": [
      "0\n",
      "nan\n",
      "nan\n",
      "nan\n"
     ]
    },
    {
     "name": "stderr",
     "output_type": "stream",
     "text": [
      "C:\\Users\\Bala\\AppData\\Local\\Temp\\ipykernel_14252\\2371707608.py:1: RuntimeWarning: divide by zero encountered in floor_divide\n",
      "  print(np.array(0) // np.array(0))\n",
      "C:\\Users\\Bala\\AppData\\Local\\Temp\\ipykernel_14252\\2371707608.py:2: RuntimeWarning: invalid value encountered in floor_divide\n",
      "  print(np.array(0) // np.array(0.))\n",
      "C:\\Users\\Bala\\AppData\\Local\\Temp\\ipykernel_14252\\2371707608.py:3: RuntimeWarning: invalid value encountered in true_divide\n",
      "  print(np.array(0) / np.array(0))\n",
      "C:\\Users\\Bala\\AppData\\Local\\Temp\\ipykernel_14252\\2371707608.py:4: RuntimeWarning: invalid value encountered in true_divide\n",
      "  print(np.array(0) / np.array(0.))\n"
     ]
    }
   ],
   "source": [
    "print(np.array(0) // np.array(0))\n",
    "print(np.array(0) // np.array(0.))\n",
    "print(np.array(0) / np.array(0))\n",
    "print(np.array(0) / np.array(0.))"
   ]
  },
  {
   "cell_type": "markdown",
   "id": "614bc149",
   "metadata": {},
   "source": [
    "# 27. Rounding a Float Array"
   ]
  },
  {
   "cell_type": "code",
   "execution_count": 27,
   "id": "f7289409",
   "metadata": {},
   "outputs": [
    {
     "name": "stdout",
     "output_type": "stream",
     "text": [
      "Original Array :  [-2.68733548 -6.00954837 -7.7580291  -2.79703587 -3.24817341  5.33954795\n",
      "  3.98096098 -4.94223403  5.99695543 -5.04794136]\n",
      "Rounding the Original Array :  [-3. -6. -8. -3. -3.  5.  4. -5.  6. -5.]\n"
     ]
    }
   ],
   "source": [
    "Z = np.random.uniform(-10,+10,10) #Extract 10 values ranging from -10 to +10\n",
    "print(\"Original Array : \", Z)\n",
    "print(\"Rounding the Original Array : \", np.trunc(Z + np.copysign(0.5, Z)))"
   ]
  },
  {
   "cell_type": "markdown",
   "id": "508e5e5f",
   "metadata": {},
   "source": [
    "# 28. Extract the Integer part of the Random array"
   ]
  },
  {
   "cell_type": "code",
   "execution_count": 28,
   "id": "61ec8367",
   "metadata": {},
   "outputs": [
    {
     "name": "stdout",
     "output_type": "stream",
     "text": [
      "Original Array : \n",
      "[9.37776956 2.51557139 2.98214298 6.04350575 1.6022311  7.85394352\n",
      " 3.12005495 0.08421555 1.59604212 1.49036907]\n",
      "**************************************\n",
      "Approach-1, The Integer part of the Original Array : \n",
      "[9. 2. 2. 6. 1. 7. 3. 0. 1. 1.]\n",
      "**************************************\n",
      "Approach-2, The Integer part of the Original Array : \n",
      "[9. 2. 2. 6. 1. 7. 3. 0. 1. 1.]\n",
      "**************************************\n",
      "Approach-3, The Integer part of the Original Array : \n",
      "[9. 2. 2. 6. 1. 7. 3. 0. 1. 1.]\n",
      "**************************************\n",
      "Approach-4, The Integer part of the Original Array : \n",
      "[9 2 2 6 1 7 3 0 1 1]\n",
      "**************************************\n",
      "Approach-5, The Integer part of the Original Array : \n",
      "[9. 2. 2. 6. 1. 7. 3. 0. 1. 1.]\n",
      "**************************************\n"
     ]
    }
   ],
   "source": [
    "Z = np.random.uniform(0,10,10) # Generate random 10 Integers from 0 to 10\n",
    "\n",
    "print(\"Original Array : \")\n",
    "print(Z)\n",
    "print(\"**************************************\")\n",
    "\n",
    "# Approach-1 \n",
    "decimal_portions = Z%1 # Extracts only the decimal portions\n",
    "result = Z - decimal_portions # Subtract the decimal portions from the Original 1D Array\n",
    "print(\"Approach-1, The Integer part of the Original Array : \")\n",
    "print(result)\n",
    "print(\"**************************************\")\n",
    "\n",
    "#Approach-2\n",
    "result = np.floor(Z) # Using the Floor API from the Numpy library to extract the Integers\n",
    "print(\"Approach-2, The Integer part of the Original Array : \")\n",
    "print(result)\n",
    "print(\"**************************************\")\n",
    "\n",
    "#Approach-3\n",
    "result = np.ceil(Z) - 1 #Ceil will round off to the higher end value. from the higher end value subtracting by 1, we can get the integer part\n",
    "print(\"Approach-3, The Integer part of the Original Array : \")\n",
    "print(result)\n",
    "print(\"**************************************\")\n",
    "\n",
    "#Approach-4\n",
    "result = Z.astype(int) #Covert the data type from Flot to Integer\n",
    "print(\"Approach-4, The Integer part of the Original Array : \")\n",
    "print(result)\n",
    "print(\"**************************************\")\n",
    "\n",
    "#Approach-5\n",
    "result = np.trunc(Z) #Truncates the decimal part and returns the Integers\n",
    "print(\"Approach-5, The Integer part of the Original Array : \")\n",
    "print(result)\n",
    "print(\"**************************************\")"
   ]
  },
  {
   "cell_type": "markdown",
   "id": "4d3b172d",
   "metadata": {},
   "source": [
    "# 29. A 5X5 matrix with row values ranging from 0 to 4"
   ]
  },
  {
   "cell_type": "code",
   "execution_count": 29,
   "id": "64080129",
   "metadata": {},
   "outputs": [
    {
     "name": "stdout",
     "output_type": "stream",
     "text": [
      "An Empty 5X5 matrix : \n",
      "[[0. 0. 0. 0. 0.]\n",
      " [0. 0. 0. 0. 0.]\n",
      " [0. 0. 0. 0. 0.]\n",
      " [0. 0. 0. 0. 0.]\n",
      " [0. 0. 0. 0. 0.]]\n",
      "A 1D array has values ranging from 0 to 4\n",
      "[0 1 2 3 4]\n",
      "Now creating a 5X5 with values ranging from 0 to 4\n",
      "[[0. 1. 2. 3. 4.]\n",
      " [0. 1. 2. 3. 4.]\n",
      " [0. 1. 2. 3. 4.]\n",
      " [0. 1. 2. 3. 4.]\n",
      " [0. 1. 2. 3. 4.]]\n"
     ]
    }
   ],
   "source": [
    "Z1 = np.zeros((5,5))\n",
    "Z2 = np.arange(5)\n",
    "print(\"An Empty 5X5 matrix : \")\n",
    "print(Z1)\n",
    "print(\"A 1D array has values ranging from 0 to 4\")\n",
    "print(Z2)\n",
    "\n",
    "print(\"Now creating a 5X5 with values ranging from 0 to 4\")\n",
    "result = Z1 + Z2 #Adding the 1D array (ranging from 0 to 4) to a 5X5 empty array\n",
    "print(result)"
   ]
  },
  {
   "cell_type": "markdown",
   "id": "61d58223",
   "metadata": {},
   "source": [
    "## 30. Use a custom function to populate the array of elements using the `numpy - fromiter` function"
   ]
  },
  {
   "cell_type": "code",
   "execution_count": 30,
   "id": "4f6a5b83",
   "metadata": {},
   "outputs": [
    {
     "name": "stdout",
     "output_type": "stream",
     "text": [
      "[0. 1. 2. 3. 4. 5. 6. 7. 8. 9.]\n"
     ]
    }
   ],
   "source": [
    "def generate():\n",
    "    for x in range(10):\n",
    "        yield x\n",
    "#The fromiter API in the Numpy Library - Creates a new 1-dimensional array from an iterable object.\n",
    "Z = np.fromiter(generate(),dtype=float,count=-1) #The -1 is a default value which reads all the data\n",
    "print(Z)"
   ]
  },
  {
   "cell_type": "markdown",
   "id": "09acba28",
   "metadata": {},
   "source": [
    "## 31. Create a vector of size 10 with values ranging from 0 to 1, excluding both the start and end values"
   ]
  },
  {
   "cell_type": "code",
   "execution_count": 31,
   "id": "278b667f",
   "metadata": {},
   "outputs": [
    {
     "name": "stdout",
     "output_type": "stream",
     "text": [
      "[0.09090909 0.18181818 0.27272727 0.36363636 0.45454545 0.54545455\n",
      " 0.63636364 0.72727273 0.81818182 0.90909091]\n"
     ]
    }
   ],
   "source": [
    "#Returns evenly spaced numbers over the specified interval.\n",
    "#[1:-1] this will exclude the start and end values and returns the rest of the data\n",
    "\n",
    "Z = np.linspace(0,1,12,endpoint=True)[1:-1]\n",
    "print(Z)"
   ]
  },
  {
   "cell_type": "markdown",
   "id": "5185042a",
   "metadata": {},
   "source": [
    "## 32. Sort the vector of size 10"
   ]
  },
  {
   "cell_type": "code",
   "execution_count": 32,
   "id": "a3e92f8a",
   "metadata": {},
   "outputs": [
    {
     "name": "stdout",
     "output_type": "stream",
     "text": [
      "The Original array : \n",
      "[0.99340365 0.8816272  0.04215323 0.68826683 0.86504525 0.75720823\n",
      " 0.06502149 0.35152618 0.46210598 0.15487457]\n",
      "The Sorted array : \n",
      "[0.04215323 0.06502149 0.15487457 0.35152618 0.46210598 0.68826683\n",
      " 0.75720823 0.86504525 0.8816272  0.99340365]\n"
     ]
    }
   ],
   "source": [
    "Z = np.random.random(10)\n",
    "print(\"The Original array : \")\n",
    "print(Z)\n",
    "Z.sort() #Sorts the array\n",
    "print(\"The Sorted array : \")\n",
    "print(Z)"
   ]
  },
  {
   "cell_type": "markdown",
   "id": "0e35ac49",
   "metadata": {},
   "source": [
    "## 33. Alternate approach of Summing the Numpy Array apart from `np.sum` Function"
   ]
  },
  {
   "cell_type": "code",
   "execution_count": 33,
   "id": "29e7c949",
   "metadata": {},
   "outputs": [
    {
     "name": "stdout",
     "output_type": "stream",
     "text": [
      "The Original array : \n",
      "[15 16 17 18 19 20 21 22 23 24 25 26]\n",
      "The Sum is  246\n"
     ]
    }
   ],
   "source": [
    "Z = np.arange(15, 27)\n",
    "print(\"The Original array : \")\n",
    "print(Z)\n",
    "print(\"The Sum is \", np.add.reduce(Z))"
   ]
  },
  {
   "cell_type": "markdown",
   "id": "74e96a74",
   "metadata": {},
   "source": [
    "## 34. Validate whether two Integer array are same or not"
   ]
  },
  {
   "cell_type": "code",
   "execution_count": 34,
   "id": "8a4621a3",
   "metadata": {},
   "outputs": [
    {
     "name": "stdout",
     "output_type": "stream",
     "text": [
      "The Original Arrays : \n",
      "Z1 : \n",
      "[1 0 1 0 1]\n",
      "Z2 : \n",
      "[1 1 0 1 1]\n",
      "Validation result :  False\n"
     ]
    }
   ],
   "source": [
    "Z1 = np.random.randint(0,2,5)\n",
    "Z2 = np.random.randint(0,2,5)\n",
    "\n",
    "print(\"The Original Arrays : \")\n",
    "print(\"Z1 : \")\n",
    "print(Z1)\n",
    "print(\"Z2 : \")\n",
    "print(Z2)\n",
    "\n",
    "result = np.allclose(Z1, Z2)\n",
    "print(\"Validation result : \", result)"
   ]
  },
  {
   "cell_type": "markdown",
   "id": "c76db151",
   "metadata": {},
   "source": [
    "## 35. Make an Array read-only - Immutatble"
   ]
  },
  {
   "cell_type": "code",
   "execution_count": 35,
   "id": "6042d05b",
   "metadata": {},
   "outputs": [
    {
     "name": "stdout",
     "output_type": "stream",
     "text": [
      "Modifying the array fails\n"
     ]
    }
   ],
   "source": [
    "Z = np.zeros(10)\n",
    "Z.flags.writeable = False #The Flag writeable \n",
    "try:\n",
    "    Z[0] = 1\n",
    "except:\n",
    "    print(\"Modifying the array fails\")"
   ]
  },
  {
   "cell_type": "markdown",
   "id": "976739d9",
   "metadata": {},
   "source": [
    "## 36. Consider a random 10x2 matrix representing cartesian coordinates, convert them to polar coordinates"
   ]
  },
  {
   "cell_type": "code",
   "execution_count": 36,
   "id": "6507f881",
   "metadata": {},
   "outputs": [
    {
     "name": "stdout",
     "output_type": "stream",
     "text": [
      "[0.85162597 1.0319656  1.1549464  0.983893   1.02920374 0.85327478\n",
      " 0.97718533 0.5228535  0.90464875 0.60696333]\n",
      "[0.74860775 0.56614718 0.80378963 1.23931024 0.48988865 1.36591826\n",
      " 0.65689961 0.93780228 0.57418799 1.31167359]\n"
     ]
    }
   ],
   "source": [
    "Z = np.random.random((10,2))\n",
    "X,Y = Z[:,0], Z[:,1]\n",
    "R = np.sqrt(X**2+Y**2)\n",
    "T = np.arctan2(Y,X)\n",
    "print(R)\n",
    "print(T)"
   ]
  },
  {
   "cell_type": "markdown",
   "id": "b9acc819",
   "metadata": {},
   "source": [
    "## 37. From a vector size of 10, identify the maximum value and replace it by Zero"
   ]
  },
  {
   "cell_type": "code",
   "execution_count": 37,
   "id": "c4e42a66",
   "metadata": {},
   "outputs": [
    {
     "name": "stdout",
     "output_type": "stream",
     "text": [
      "The Original Array : \n",
      "[0.07020114 0.06498463 0.11078498 0.14014401 0.75563923 0.5642596\n",
      " 0.97431241 0.64593594 0.79656685 0.87857222]\n",
      "The Modified Array : \n",
      "[0.07020114 0.06498463 0.11078498 0.14014401 0.75563923 0.5642596\n",
      " 0.         0.64593594 0.79656685 0.87857222]\n"
     ]
    }
   ],
   "source": [
    "Z = np.random.random(10)\n",
    "print(\"The Original Array : \")\n",
    "print(Z)\n",
    "maximum_value = Z.argmax() #Identifying the maximum value\n",
    "Z[maximum_value] = 0 #Replacing the maximum value by Zero\n",
    "print(\"The Modified Array : \")\n",
    "print(Z)"
   ]
  },
  {
   "cell_type": "markdown",
   "id": "24f2697b",
   "metadata": {},
   "source": [
    "## 38. Create a structured array with x and y coordinates covering the [0,1]x[0,1] area"
   ]
  },
  {
   "cell_type": "code",
   "execution_count": 38,
   "id": "9bf61d0a",
   "metadata": {},
   "outputs": [
    {
     "name": "stdout",
     "output_type": "stream",
     "text": [
      "[[(0.        , 0.        ) (0.11111111, 0.        )\n",
      "  (0.22222222, 0.        ) (0.33333333, 0.        )\n",
      "  (0.44444444, 0.        ) (0.55555556, 0.        )\n",
      "  (0.66666667, 0.        ) (0.77777778, 0.        )\n",
      "  (0.88888889, 0.        ) (1.        , 0.        )]\n",
      " [(0.        , 0.11111111) (0.11111111, 0.11111111)\n",
      "  (0.22222222, 0.11111111) (0.33333333, 0.11111111)\n",
      "  (0.44444444, 0.11111111) (0.55555556, 0.11111111)\n",
      "  (0.66666667, 0.11111111) (0.77777778, 0.11111111)\n",
      "  (0.88888889, 0.11111111) (1.        , 0.11111111)]\n",
      " [(0.        , 0.22222222) (0.11111111, 0.22222222)\n",
      "  (0.22222222, 0.22222222) (0.33333333, 0.22222222)\n",
      "  (0.44444444, 0.22222222) (0.55555556, 0.22222222)\n",
      "  (0.66666667, 0.22222222) (0.77777778, 0.22222222)\n",
      "  (0.88888889, 0.22222222) (1.        , 0.22222222)]\n",
      " [(0.        , 0.33333333) (0.11111111, 0.33333333)\n",
      "  (0.22222222, 0.33333333) (0.33333333, 0.33333333)\n",
      "  (0.44444444, 0.33333333) (0.55555556, 0.33333333)\n",
      "  (0.66666667, 0.33333333) (0.77777778, 0.33333333)\n",
      "  (0.88888889, 0.33333333) (1.        , 0.33333333)]\n",
      " [(0.        , 0.44444444) (0.11111111, 0.44444444)\n",
      "  (0.22222222, 0.44444444) (0.33333333, 0.44444444)\n",
      "  (0.44444444, 0.44444444) (0.55555556, 0.44444444)\n",
      "  (0.66666667, 0.44444444) (0.77777778, 0.44444444)\n",
      "  (0.88888889, 0.44444444) (1.        , 0.44444444)]\n",
      " [(0.        , 0.55555556) (0.11111111, 0.55555556)\n",
      "  (0.22222222, 0.55555556) (0.33333333, 0.55555556)\n",
      "  (0.44444444, 0.55555556) (0.55555556, 0.55555556)\n",
      "  (0.66666667, 0.55555556) (0.77777778, 0.55555556)\n",
      "  (0.88888889, 0.55555556) (1.        , 0.55555556)]\n",
      " [(0.        , 0.66666667) (0.11111111, 0.66666667)\n",
      "  (0.22222222, 0.66666667) (0.33333333, 0.66666667)\n",
      "  (0.44444444, 0.66666667) (0.55555556, 0.66666667)\n",
      "  (0.66666667, 0.66666667) (0.77777778, 0.66666667)\n",
      "  (0.88888889, 0.66666667) (1.        , 0.66666667)]\n",
      " [(0.        , 0.77777778) (0.11111111, 0.77777778)\n",
      "  (0.22222222, 0.77777778) (0.33333333, 0.77777778)\n",
      "  (0.44444444, 0.77777778) (0.55555556, 0.77777778)\n",
      "  (0.66666667, 0.77777778) (0.77777778, 0.77777778)\n",
      "  (0.88888889, 0.77777778) (1.        , 0.77777778)]\n",
      " [(0.        , 0.88888889) (0.11111111, 0.88888889)\n",
      "  (0.22222222, 0.88888889) (0.33333333, 0.88888889)\n",
      "  (0.44444444, 0.88888889) (0.55555556, 0.88888889)\n",
      "  (0.66666667, 0.88888889) (0.77777778, 0.88888889)\n",
      "  (0.88888889, 0.88888889) (1.        , 0.88888889)]\n",
      " [(0.        , 1.        ) (0.11111111, 1.        )\n",
      "  (0.22222222, 1.        ) (0.33333333, 1.        )\n",
      "  (0.44444444, 1.        ) (0.55555556, 1.        )\n",
      "  (0.66666667, 1.        ) (0.77777778, 1.        )\n",
      "  (0.88888889, 1.        ) (1.        , 1.        )]]\n"
     ]
    }
   ],
   "source": [
    "Z = np.zeros((10,10), [('x',float),('y',float)])\n",
    "Z['x'], Z['y'] = np.meshgrid(np.linspace(0,1,10),\n",
    "np.linspace(0,1,10))\n",
    "print(Z)"
   ]
  },
  {
   "cell_type": "markdown",
   "id": "9abab36f",
   "metadata": {},
   "source": [
    "## 39. Construct Cauchy Matrix C.\n",
    "\n",
    "## Formula: 1/(x_i - y_j)"
   ]
  },
  {
   "cell_type": "code",
   "execution_count": 39,
   "id": "1f124a86",
   "metadata": {},
   "outputs": [
    {
     "name": "stdout",
     "output_type": "stream",
     "text": [
      "Array 1 :  [0 1 2 3 4 5 6 7]\n",
      "*********************\n",
      "Array 2 :  [0.5 1.5 2.5 3.5 4.5 5.5 6.5 7.5]\n",
      "*********************\n",
      "3638.1636371179666\n"
     ]
    }
   ],
   "source": [
    "X = np.arange(8) #Array with 8 elements from 0 to 7\n",
    "Y = X + 0.5 #Create array Y from array X ust by increasing each element by 0.5\n",
    "print(\"Array 1 : \", X)\n",
    "print(\"*********************\")\n",
    "print(\"Array 2 : \", Y)\n",
    "print(\"*********************\")\n",
    "C = 1.0 / np.subtract.outer(X, Y)\n",
    "print(np.linalg.det(C))"
   ]
  },
  {
   "cell_type": "markdown",
   "id": "104cb08c",
   "metadata": {},
   "source": [
    "## 40. Minimum and Maximum representable value for each numpy Scalar type"
   ]
  },
  {
   "cell_type": "code",
   "execution_count": 40,
   "id": "8a211a31",
   "metadata": {},
   "outputs": [
    {
     "name": "stdout",
     "output_type": "stream",
     "text": [
      "The minimum representable value for \n",
      "--------np.int8 :  -128\n",
      "--------np.int32 :  -2147483648\n",
      "--------np.int64 :  -9223372036854775808\n",
      "--------------------------------------------------------\n",
      "The maximum representable value for \n",
      "--------np.int8 :  127\n",
      "--------np.int32 :  2147483647\n",
      "--------np.int64 :  9223372036854775807\n",
      "--------------------------------------------------------\n"
     ]
    }
   ],
   "source": [
    "print(\"The minimum representable value for \")\n",
    "print(\"--------np.int8 : \", np.iinfo(np.int8).min)\n",
    "print(\"--------np.int32 : \", np.iinfo(np.int32).min)\n",
    "print(\"--------np.int64 : \", np.iinfo(np.int64).min)\n",
    "print(\"--------------------------------------------------------\")\n",
    "print(\"The maximum representable value for \")\n",
    "print(\"--------np.int8 : \", np.iinfo(np.int8).max)\n",
    "print(\"--------np.int32 : \", np.iinfo(np.int32).max)\n",
    "print(\"--------np.int64 : \", np.iinfo(np.int64).max)\n",
    "print(\"--------------------------------------------------------\")"
   ]
  },
  {
   "cell_type": "markdown",
   "id": "9e853708",
   "metadata": {},
   "source": [
    "## 41. Print all the values of an Array"
   ]
  },
  {
   "cell_type": "code",
   "execution_count": 41,
   "id": "cabd5f85",
   "metadata": {},
   "outputs": [
    {
     "name": "stdout",
     "output_type": "stream",
     "text": [
      "[[0. 0. 0. 0. 0. 0. 0. 0. 0. 0. 0. 0. 0. 0. 0. 0. 0. 0. 0. 0. 0. 0. 0. 0.\n",
      "  0.]\n",
      " [0. 0. 0. 0. 0. 0. 0. 0. 0. 0. 0. 0. 0. 0. 0. 0. 0. 0. 0. 0. 0. 0. 0. 0.\n",
      "  0.]\n",
      " [0. 0. 0. 0. 0. 0. 0. 0. 0. 0. 0. 0. 0. 0. 0. 0. 0. 0. 0. 0. 0. 0. 0. 0.\n",
      "  0.]\n",
      " [0. 0. 0. 0. 0. 0. 0. 0. 0. 0. 0. 0. 0. 0. 0. 0. 0. 0. 0. 0. 0. 0. 0. 0.\n",
      "  0.]\n",
      " [0. 0. 0. 0. 0. 0. 0. 0. 0. 0. 0. 0. 0. 0. 0. 0. 0. 0. 0. 0. 0. 0. 0. 0.\n",
      "  0.]\n",
      " [0. 0. 0. 0. 0. 0. 0. 0. 0. 0. 0. 0. 0. 0. 0. 0. 0. 0. 0. 0. 0. 0. 0. 0.\n",
      "  0.]\n",
      " [0. 0. 0. 0. 0. 0. 0. 0. 0. 0. 0. 0. 0. 0. 0. 0. 0. 0. 0. 0. 0. 0. 0. 0.\n",
      "  0.]\n",
      " [0. 0. 0. 0. 0. 0. 0. 0. 0. 0. 0. 0. 0. 0. 0. 0. 0. 0. 0. 0. 0. 0. 0. 0.\n",
      "  0.]\n",
      " [0. 0. 0. 0. 0. 0. 0. 0. 0. 0. 0. 0. 0. 0. 0. 0. 0. 0. 0. 0. 0. 0. 0. 0.\n",
      "  0.]\n",
      " [0. 0. 0. 0. 0. 0. 0. 0. 0. 0. 0. 0. 0. 0. 0. 0. 0. 0. 0. 0. 0. 0. 0. 0.\n",
      "  0.]\n",
      " [0. 0. 0. 0. 0. 0. 0. 0. 0. 0. 0. 0. 0. 0. 0. 0. 0. 0. 0. 0. 0. 0. 0. 0.\n",
      "  0.]\n",
      " [0. 0. 0. 0. 0. 0. 0. 0. 0. 0. 0. 0. 0. 0. 0. 0. 0. 0. 0. 0. 0. 0. 0. 0.\n",
      "  0.]\n",
      " [0. 0. 0. 0. 0. 0. 0. 0. 0. 0. 0. 0. 0. 0. 0. 0. 0. 0. 0. 0. 0. 0. 0. 0.\n",
      "  0.]\n",
      " [0. 0. 0. 0. 0. 0. 0. 0. 0. 0. 0. 0. 0. 0. 0. 0. 0. 0. 0. 0. 0. 0. 0. 0.\n",
      "  0.]\n",
      " [0. 0. 0. 0. 0. 0. 0. 0. 0. 0. 0. 0. 0. 0. 0. 0. 0. 0. 0. 0. 0. 0. 0. 0.\n",
      "  0.]\n",
      " [0. 0. 0. 0. 0. 0. 0. 0. 0. 0. 0. 0. 0. 0. 0. 0. 0. 0. 0. 0. 0. 0. 0. 0.\n",
      "  0.]\n",
      " [0. 0. 0. 0. 0. 0. 0. 0. 0. 0. 0. 0. 0. 0. 0. 0. 0. 0. 0. 0. 0. 0. 0. 0.\n",
      "  0.]\n",
      " [0. 0. 0. 0. 0. 0. 0. 0. 0. 0. 0. 0. 0. 0. 0. 0. 0. 0. 0. 0. 0. 0. 0. 0.\n",
      "  0.]\n",
      " [0. 0. 0. 0. 0. 0. 0. 0. 0. 0. 0. 0. 0. 0. 0. 0. 0. 0. 0. 0. 0. 0. 0. 0.\n",
      "  0.]\n",
      " [0. 0. 0. 0. 0. 0. 0. 0. 0. 0. 0. 0. 0. 0. 0. 0. 0. 0. 0. 0. 0. 0. 0. 0.\n",
      "  0.]\n",
      " [0. 0. 0. 0. 0. 0. 0. 0. 0. 0. 0. 0. 0. 0. 0. 0. 0. 0. 0. 0. 0. 0. 0. 0.\n",
      "  0.]\n",
      " [0. 0. 0. 0. 0. 0. 0. 0. 0. 0. 0. 0. 0. 0. 0. 0. 0. 0. 0. 0. 0. 0. 0. 0.\n",
      "  0.]\n",
      " [0. 0. 0. 0. 0. 0. 0. 0. 0. 0. 0. 0. 0. 0. 0. 0. 0. 0. 0. 0. 0. 0. 0. 0.\n",
      "  0.]\n",
      " [0. 0. 0. 0. 0. 0. 0. 0. 0. 0. 0. 0. 0. 0. 0. 0. 0. 0. 0. 0. 0. 0. 0. 0.\n",
      "  0.]\n",
      " [0. 0. 0. 0. 0. 0. 0. 0. 0. 0. 0. 0. 0. 0. 0. 0. 0. 0. 0. 0. 0. 0. 0. 0.\n",
      "  0.]]\n"
     ]
    }
   ],
   "source": [
    "import sys\n",
    "np.set_printoptions(threshold=sys.maxsize)\n",
    "Z = np.zeros((25, 25))\n",
    "print(Z)"
   ]
  },
  {
   "cell_type": "markdown",
   "id": "08581901",
   "metadata": {},
   "source": [
    "## 42. Find the closest value to a given scalar in an Array"
   ]
  },
  {
   "cell_type": "code",
   "execution_count": 42,
   "id": "15d4b3ad",
   "metadata": {},
   "outputs": [
    {
     "name": "stdout",
     "output_type": "stream",
     "text": [
      "99.53065183762723\n",
      "99\n",
      "99\n"
     ]
    }
   ],
   "source": [
    "Z = np.arange(100) #Construct values from 0 to 99 \n",
    "v = np.random.uniform(0,100)\n",
    "print(v)\n",
    "index = (np.abs(Z-v)).argmin()\n",
    "print(index)\n",
    "print(Z[index])"
   ]
  },
  {
   "cell_type": "markdown",
   "id": "2d8987f9",
   "metadata": {},
   "source": [
    "# 43. A Structured array representing a position (x, y) and a color (r, g, b)"
   ]
  },
  {
   "cell_type": "code",
   "execution_count": 43,
   "id": "c03b853d",
   "metadata": {},
   "outputs": [
    {
     "name": "stdout",
     "output_type": "stream",
     "text": [
      "[((0., 0.), (0., 0., 0.)) ((0., 0.), (0., 0., 0.))\n",
      " ((0., 0.), (0., 0., 0.)) ((0., 0.), (0., 0., 0.))\n",
      " ((0., 0.), (0., 0., 0.)) ((0., 0.), (0., 0., 0.))\n",
      " ((0., 0.), (0., 0., 0.)) ((0., 0.), (0., 0., 0.))\n",
      " ((0., 0.), (0., 0., 0.)) ((0., 0.), (0., 0., 0.))]\n"
     ]
    },
    {
     "name": "stderr",
     "output_type": "stream",
     "text": [
      "C:\\Users\\Bala\\AppData\\Local\\Temp\\ipykernel_14252\\3575874729.py:4: FutureWarning: Passing (type, 1) or '1type' as a synonym of type is deprecated; in a future version of numpy, it will be understood as (type, (1,)) / '(1,)type'.\n",
      "  Z = np.zeros(10, [('position', positions), ('color', color)])\n"
     ]
    }
   ],
   "source": [
    "positions = [('x', float, 1),('y', float, 1)]\n",
    "color = [('r', float, 1), ('g', float, 1), ('b', float, 1)]\n",
    "\n",
    "Z = np.zeros(10, [('position', positions), ('color', color)])\n",
    "print(Z)"
   ]
  },
  {
   "cell_type": "markdown",
   "id": "33b092b9",
   "metadata": {},
   "source": [
    "# 44.A. Calculate the distance between two points. "
   ]
  },
  {
   "cell_type": "code",
   "execution_count": 44,
   "id": "a7096baa",
   "metadata": {},
   "outputs": [
    {
     "name": "stdout",
     "output_type": "stream",
     "text": [
      "[[0.         0.43440695 0.19721642 0.48448806 0.28529814 0.48283056\n",
      "  0.93393761 0.74051642 0.56279985 0.27591678]\n",
      " [0.43440695 0.         0.59762538 0.71402118 0.42064276 0.15747059\n",
      "  0.82650495 0.74551073 0.51300626 0.24041113]\n",
      " [0.19721642 0.59762538 0.         0.3486618  0.28986436 0.60669332\n",
      "  0.90965634 0.68269685 0.55911324 0.47116225]\n",
      " [0.48448806 0.71402118 0.3486618  0.         0.29448947 0.64104526\n",
      "  0.64002857 0.3882989  0.37857733 0.70009896]\n",
      " [0.28529814 0.42064276 0.28986436 0.29448947 0.         0.36621036\n",
      "  0.65064977 0.45751603 0.2825711  0.42420942]\n",
      " [0.48283056 0.15747059 0.60669332 0.64104526 0.36621036 0.\n",
      "  0.67102569 0.60771887 0.37766056 0.36714853]\n",
      " [0.93393761 0.82650495 0.90965634 0.64002857 0.65064977 0.67102569\n",
      "  0.         0.25423248 0.37195654 0.98538612]\n",
      " [0.74051642 0.74551073 0.68269685 0.3882989  0.45751603 0.60771887\n",
      "  0.25423248 0.         0.23250462 0.85010008]\n",
      " [0.56279985 0.51300626 0.55911324 0.37857733 0.2825711  0.37766056\n",
      "  0.37195654 0.23250462 0.         0.62923745]\n",
      " [0.27591678 0.24041113 0.47116225 0.70009896 0.42420942 0.36714853\n",
      "  0.98538612 0.85010008 0.62923745 0.        ]]\n"
     ]
    }
   ],
   "source": [
    "Z = np.random.random((10,2)) #A vector of size 10, 2. Representing 10 rows of x and y coordinates\n",
    "X,Y = np.atleast_2d(Z[:,0]), np.atleast_2d(Z[:,1]) #Segregating the X and Y coordinates\n",
    "D = np.sqrt((X-X.T)**2 + (Y-Y.T)**2)\n",
    "print(D)"
   ]
  },
  {
   "cell_type": "markdown",
   "id": "29d8e971",
   "metadata": {},
   "source": [
    "# 44.B. Calculate the distance between two points using `scipy` library"
   ]
  },
  {
   "cell_type": "code",
   "execution_count": 45,
   "id": "f6f35792",
   "metadata": {},
   "outputs": [
    {
     "name": "stdout",
     "output_type": "stream",
     "text": [
      "[[0.         0.82750863 0.54969416 0.26778667 0.27157681 0.61522768\n",
      "  0.13792323 0.65723758 0.34497551 0.68719149]\n",
      " [0.82750863 0.         0.79300865 0.76058939 0.59155866 0.35631779\n",
      "  0.92841479 0.18913735 0.49514821 0.57431497]\n",
      " [0.54969416 0.79300865 0.         0.28192735 0.6192444  0.82473416\n",
      "  0.51188772 0.61437157 0.58923566 0.28543251]\n",
      " [0.26778667 0.76058939 0.28192735 0.         0.38454025 0.66865948\n",
      "  0.25001608 0.5720595  0.39128248 0.45289451]\n",
      " [0.27157681 0.59155866 0.6192444  0.38454025 0.         0.34381503\n",
      "  0.40307621 0.44700155 0.0998419  0.63714955]\n",
      " [0.61522768 0.35631779 0.82473416 0.66865948 0.34381503 0.\n",
      "  0.74413747 0.32691578 0.28483271 0.71642235]\n",
      " [0.13792323 0.92841479 0.51188772 0.25001608 0.40307621 0.74413747\n",
      "  0.         0.74916241 0.46553867 0.70211933]\n",
      " [0.65723758 0.18913735 0.61437157 0.5720595  0.44700155 0.32691578\n",
      "  0.74916241 0.         0.34715999 0.42685986]\n",
      " [0.34497551 0.49514821 0.58923566 0.39128248 0.0998419  0.28483271\n",
      "  0.46553867 0.34715999 0.         0.56668189]\n",
      " [0.68719149 0.57431497 0.28543251 0.45289451 0.63714955 0.71642235\n",
      "  0.70211933 0.42685986 0.56668189 0.        ]]\n"
     ]
    }
   ],
   "source": [
    "import scipy\n",
    "import scipy.spatial\n",
    "\n",
    "Z = np.random.random((10,2)) #A vector of size 10, 2. Representing 10 rows of x and y coordinates\n",
    "D = scipy.spatial.distance.cdist(Z,Z)\n",
    "print(D)"
   ]
  },
  {
   "cell_type": "markdown",
   "id": "243a85c9",
   "metadata": {},
   "source": [
    "# 45. Convert a `float` array into `integer` array"
   ]
  },
  {
   "cell_type": "code",
   "execution_count": 46,
   "id": "63dc5793",
   "metadata": {},
   "outputs": [
    {
     "name": "stdout",
     "output_type": "stream",
     "text": [
      "Original Array - Float :  [0. 1. 2. 3. 4. 5. 6. 7. 8. 9.]\n",
      "Converted to Int : \n",
      "[0 1 2 3 4 5 6 7 8 9]\n"
     ]
    }
   ],
   "source": [
    "Z = np.arange(10, dtype=np.float32)\n",
    "print(\"Original Array - Float : \", Z)\n",
    "Z = Z.astype(np.int32, copy=False)\n",
    "print(\"Converted to Int : \")\n",
    "print(Z)"
   ]
  },
  {
   "cell_type": "markdown",
   "id": "d0193ca3",
   "metadata": {},
   "source": [
    "# 46. Read `numpy` type of data from a file"
   ]
  },
  {
   "cell_type": "code",
   "execution_count": 47,
   "id": "b23e3943",
   "metadata": {},
   "outputs": [
    {
     "name": "stdout",
     "output_type": "stream",
     "text": [
      "[[ 1.  2.  3.  4.  5.]\n",
      " [ 6. nan nan  7.  8.]\n",
      " [nan nan  9. 10. 11.]]\n"
     ]
    }
   ],
   "source": [
    "Z = np.genfromtxt(\"files/program_46.txt\", delimiter=\",\") #The missing values between the delimiters ',' are considered as NaN\n",
    "print(Z)"
   ]
  },
  {
   "cell_type": "markdown",
   "id": "98eaae07",
   "metadata": {},
   "source": [
    "# 47 `ndEnumerate`; `ndindex` to iterate the indices and values of each element in numpy array"
   ]
  },
  {
   "cell_type": "code",
   "execution_count": 48,
   "id": "478674a4",
   "metadata": {},
   "outputs": [
    {
     "name": "stdout",
     "output_type": "stream",
     "text": [
      "The initialized Array : \n",
      "[[0 1 2]\n",
      " [3 4 5]\n",
      " [6 7 8]]\n",
      "----------------------------------------\n",
      "Index :  (0, 0)  | Value :  0\n",
      "Index :  (0, 1)  | Value :  1\n",
      "Index :  (0, 2)  | Value :  2\n",
      "Index :  (1, 0)  | Value :  3\n",
      "Index :  (1, 1)  | Value :  4\n",
      "Index :  (1, 2)  | Value :  5\n",
      "Index :  (2, 0)  | Value :  6\n",
      "Index :  (2, 1)  | Value :  7\n",
      "Index :  (2, 2)  | Value :  8\n",
      "----------------------------------------\n",
      "Index :  (0, 0)  | Value :  0\n",
      "Index :  (0, 1)  | Value :  1\n",
      "Index :  (0, 2)  | Value :  2\n",
      "Index :  (1, 0)  | Value :  3\n",
      "Index :  (1, 1)  | Value :  4\n",
      "Index :  (1, 2)  | Value :  5\n",
      "Index :  (2, 0)  | Value :  6\n",
      "Index :  (2, 1)  | Value :  7\n",
      "Index :  (2, 2)  | Value :  8\n"
     ]
    }
   ],
   "source": [
    "Z = np.arange(9).reshape(3,3) #Array definition \n",
    "print(\"The initialized Array : \")\n",
    "print(Z)\n",
    "print(\"----------------------------------------\")\n",
    "for index, value in np.ndenumerate(Z):\n",
    "    print(\"Index : \", index, \" | Value : \", value)\n",
    "print(\"----------------------------------------\")\n",
    "for index in np.ndindex(Z.shape):\n",
    "    print(\"Index : \", index, \" | Value : \", Z[index])"
   ]
  },
  {
   "cell_type": "markdown",
   "id": "991d96b6",
   "metadata": {},
   "source": [
    "# 48. Generate a generic 2D Gaussian like array"
   ]
  },
  {
   "cell_type": "code",
   "execution_count": 49,
   "id": "0776a553",
   "metadata": {},
   "outputs": [
    {
     "name": "stdout",
     "output_type": "stream",
     "text": [
      "[[0.36787944 0.44822088 0.51979489 0.57375342 0.60279818 0.60279818\n",
      "  0.57375342 0.51979489 0.44822088 0.36787944]\n",
      " [0.44822088 0.54610814 0.63331324 0.69905581 0.73444367 0.73444367\n",
      "  0.69905581 0.63331324 0.54610814 0.44822088]\n",
      " [0.51979489 0.63331324 0.73444367 0.81068432 0.85172308 0.85172308\n",
      "  0.81068432 0.73444367 0.63331324 0.51979489]\n",
      " [0.57375342 0.69905581 0.81068432 0.89483932 0.9401382  0.9401382\n",
      "  0.89483932 0.81068432 0.69905581 0.57375342]\n",
      " [0.60279818 0.73444367 0.85172308 0.9401382  0.98773022 0.98773022\n",
      "  0.9401382  0.85172308 0.73444367 0.60279818]\n",
      " [0.60279818 0.73444367 0.85172308 0.9401382  0.98773022 0.98773022\n",
      "  0.9401382  0.85172308 0.73444367 0.60279818]\n",
      " [0.57375342 0.69905581 0.81068432 0.89483932 0.9401382  0.9401382\n",
      "  0.89483932 0.81068432 0.69905581 0.57375342]\n",
      " [0.51979489 0.63331324 0.73444367 0.81068432 0.85172308 0.85172308\n",
      "  0.81068432 0.73444367 0.63331324 0.51979489]\n",
      " [0.44822088 0.54610814 0.63331324 0.69905581 0.73444367 0.73444367\n",
      "  0.69905581 0.63331324 0.54610814 0.44822088]\n",
      " [0.36787944 0.44822088 0.51979489 0.57375342 0.60279818 0.60279818\n",
      "  0.57375342 0.51979489 0.44822088 0.36787944]]\n"
     ]
    }
   ],
   "source": [
    "X, Y = np.meshgrid(np.linspace(-1,1,10), np.linspace(-1,1,10)) #Meshgrid - Make N-D coordinate arrays for vectorized evaluations of N-D scalar/vector fields over N-D grids, given one-dimensional coordinate arrays x1, x2,…, xn.\n",
    "D = np.sqrt(X*X + Y*Y)\n",
    "sigma, mu = 1.0, 0.0\n",
    "G = np.exp(-( (D-mu)**2 / (2.0 * sigma**2 )))\n",
    "print(G)"
   ]
  },
  {
   "cell_type": "markdown",
   "id": "0a4073fb",
   "metadata": {},
   "source": [
    "# 49. Randomly place 'p' elements in a 2D array"
   ]
  },
  {
   "cell_type": "code",
   "execution_count": 50,
   "id": "ee0ab278",
   "metadata": {},
   "outputs": [
    {
     "name": "stdout",
     "output_type": "stream",
     "text": [
      "Initialized Array : \n",
      "[[0. 0. 0. 0. 0. 0. 0. 0. 0. 0.]\n",
      " [0. 0. 0. 0. 0. 0. 0. 0. 0. 0.]\n",
      " [0. 0. 0. 0. 0. 0. 0. 0. 0. 0.]\n",
      " [0. 0. 0. 0. 0. 0. 0. 0. 0. 0.]\n",
      " [0. 0. 0. 0. 0. 0. 0. 0. 0. 0.]\n",
      " [0. 0. 0. 0. 0. 0. 0. 0. 0. 0.]\n",
      " [0. 0. 0. 0. 0. 0. 0. 0. 0. 0.]\n",
      " [0. 0. 0. 0. 0. 0. 0. 0. 0. 0.]\n",
      " [0. 0. 0. 0. 0. 0. 0. 0. 0. 0.]\n",
      " [0. 0. 0. 0. 0. 0. 0. 0. 0. 0.]]\n",
      "The array after replacement : \n",
      "[[0. 0. 0. 0. 0. 0. 0. 0. 0. 0.]\n",
      " [0. 0. 0. 0. 0. 0. 0. 0. 0. 0.]\n",
      " [0. 0. 0. 0. 0. 0. 0. 0. 0. 1.]\n",
      " [0. 0. 0. 0. 0. 0. 0. 0. 0. 0.]\n",
      " [0. 0. 0. 0. 0. 0. 0. 0. 0. 0.]\n",
      " [0. 0. 0. 0. 0. 0. 0. 0. 0. 0.]\n",
      " [0. 0. 0. 0. 0. 0. 0. 0. 0. 0.]\n",
      " [0. 0. 0. 0. 0. 0. 0. 0. 0. 0.]\n",
      " [0. 0. 0. 0. 0. 1. 1. 0. 0. 0.]\n",
      " [0. 0. 0. 0. 0. 0. 0. 0. 0. 0.]]\n"
     ]
    }
   ],
   "source": [
    "n = 10\n",
    "p = 3\n",
    "Z = np.zeros((n,n))\n",
    "print(\"Initialized Array : \")\n",
    "print(Z)\n",
    "np.put(Z, np.random.choice(range(n*n), p, replace=False),1)\n",
    "print(\"The array after replacement : \")\n",
    "print(Z)"
   ]
  },
  {
   "cell_type": "markdown",
   "id": "efbe1c5a",
   "metadata": {},
   "source": [
    "# 50. Subtract each row value by the mean"
   ]
  },
  {
   "cell_type": "code",
   "execution_count": 51,
   "id": "3e45b3ac",
   "metadata": {},
   "outputs": [
    {
     "name": "stdout",
     "output_type": "stream",
     "text": [
      "The original array \n",
      "[[0.80111952 0.69810258 0.86997856 0.24160539 0.15755288 0.20920914\n",
      "  0.25484325 0.69933445 0.96211725 0.62346218]\n",
      " [0.06014016 0.63454604 0.00441795 0.87312089 0.03097638 0.26467338\n",
      "  0.74937507 0.25885846 0.83059794 0.20575574]\n",
      " [0.13046013 0.01789004 0.93704516 0.39867322 0.26781533 0.11719851\n",
      "  0.73156476 0.6526963  0.732535   0.28778275]\n",
      " [0.4400236  0.85893156 0.38957532 0.68126959 0.21796101 0.5534262\n",
      "  0.89646344 0.36475527 0.7730209  0.54404822]\n",
      " [0.94907734 0.22166478 0.24454709 0.10876588 0.16505258 0.04245232\n",
      "  0.3907293  0.75300098 0.73495298 0.20195478]]\n",
      "The array after the mean subtraction operation\n",
      "[[ 0.249387    0.14637006  0.31824604 -0.31012713 -0.39417964 -0.34252338\n",
      "  -0.29688927  0.14760193  0.41038473  0.07172966]\n",
      " [-0.33110604  0.24329984 -0.38682825  0.48187469 -0.36026982 -0.12657282\n",
      "   0.35812887 -0.13238774  0.43935174 -0.18549046]\n",
      " [-0.29690599 -0.40947608  0.50967904 -0.0286929  -0.15955079 -0.31016761\n",
      "   0.30419864  0.22533018  0.30516888 -0.13958337]\n",
      " [-0.13192391  0.28698405 -0.18237219  0.10932208 -0.3539865  -0.01852131\n",
      "   0.32451593 -0.20719224  0.20107339 -0.02789929]\n",
      " [ 0.56785754 -0.15955503 -0.13667271 -0.27245392 -0.21616722 -0.33876748\n",
      "   0.0095095   0.37178118  0.35373317 -0.17926502]]\n"
     ]
    }
   ],
   "source": [
    "X = np.random.rand(5, 10) # The original array\n",
    "print(\"The original array \")\n",
    "print(X)\n",
    "\n",
    "X_mean = X.mean(axis=1, keepdims=True)\n",
    "Y = X - X_mean\n",
    "print(\"The array after the mean subtraction operation\")\n",
    "print(Y)"
   ]
  },
  {
   "cell_type": "markdown",
   "id": "d1242d50",
   "metadata": {},
   "source": [
    "# 51. Sort an Array"
   ]
  },
  {
   "cell_type": "code",
   "execution_count": 52,
   "id": "3d02c557",
   "metadata": {},
   "outputs": [
    {
     "name": "stdout",
     "output_type": "stream",
     "text": [
      "Original Array:\n",
      "[3 2 0 1]\n",
      "-------------------------------------------------\n",
      "Sorted Array:\n",
      "[0 1 2 3]\n"
     ]
    }
   ],
   "source": [
    "Z = np.array([3, 2, 0, 1]) #Initialize a 3X3 array\n",
    "print(\"Original Array:\")\n",
    "print(Z)\n",
    "print(\"-------------------------------------------------\")\n",
    "Z_Sorted = np.sort(Z)\n",
    "print(\"Sorted Array:\")\n",
    "print(Z_Sorted)"
   ]
  },
  {
   "cell_type": "markdown",
   "id": "b0b71eb6",
   "metadata": {},
   "source": [
    "# 52. Validate if a given 2D array has `null` columns"
   ]
  },
  {
   "cell_type": "code",
   "execution_count": 53,
   "id": "7197ccea",
   "metadata": {},
   "outputs": [
    {
     "name": "stdout",
     "output_type": "stream",
     "text": [
      "Initialized array :\n",
      "[[2 1 2 2 0 2 0 1 1 0]\n",
      " [1 1 2 1 1 0 2 1 1 2]\n",
      " [2 2 2 1 0 2 1 2 2 0]]\n",
      "False\n"
     ]
    }
   ],
   "source": [
    "Z = np.random.randint(0,3,(3,10)) # Initialize random array\n",
    "print(\"Initialized array :\")\n",
    "print(Z)\n",
    "print((~Z.any(axis=0)).any())"
   ]
  },
  {
   "cell_type": "markdown",
   "id": "edf3288c",
   "metadata": {},
   "source": [
    "# 53. Find the nearest value from a given value in an Array"
   ]
  },
  {
   "cell_type": "code",
   "execution_count": 54,
   "id": "95a5e416",
   "metadata": {},
   "outputs": [
    {
     "name": "stdout",
     "output_type": "stream",
     "text": [
      "Initialized array :\n",
      "[0.94332795 0.35105809 0.64617664 0.14457404 0.96809724 0.6063473\n",
      " 0.65088382 0.86861708 0.54627445 0.79235091]\n",
      "The Nearest value :  0.9680972434473173\n"
     ]
    }
   ],
   "source": [
    "Z = np.random.uniform(0,1,10)\n",
    "print(\"Initialized array :\")\n",
    "print(Z)\n",
    "value = 1.0\n",
    "abs_value = np.abs(Z - value) #The abs() function returns the absolute value of the specified number.\n",
    "arg_min_value = abs_value.argmin() #The numpy.argmin() returns indices of the min element of the array in a particular axis. \n",
    "m = Z.flat[arg_min_value] #Flattens the array and finds the nearest value\n",
    "print(\"The Nearest value : \", m)"
   ]
  },
  {
   "cell_type": "markdown",
   "id": "ce472d77",
   "metadata": {},
   "source": [
    "# 54. Create an array class that has a `name` attribute"
   ]
  },
  {
   "cell_type": "code",
   "execution_count": 55,
   "id": "ea8c5304",
   "metadata": {},
   "outputs": [
    {
     "name": "stdout",
     "output_type": "stream",
     "text": [
      "range_10\n"
     ]
    }
   ],
   "source": [
    "class NamedArray(np.ndarray):\n",
    "    \n",
    "    def __new__(cls, array, name=\"default_name\"):\n",
    "        obj = np.asarray(array).view(cls)\n",
    "        obj.name = name\n",
    "        return obj\n",
    "    \n",
    "    def __array_finalize__(self, obj):\n",
    "        if obj is None:\n",
    "            return\n",
    "        self.info = getattr(obj, 'name', \"default_name\")\n",
    "\n",
    "Z = NamedArray(np.arange(10), \"range_10\") #Initialize the instance of NamedArray\n",
    "print(Z.name) "
   ]
  },
  {
   "cell_type": "markdown",
   "id": "bee88079",
   "metadata": {},
   "source": [
    "# 55. Add 1 to each element in a vector. indexed by a second vector"
   ]
  },
  {
   "cell_type": "code",
   "execution_count": 56,
   "id": "bd9fedb4",
   "metadata": {},
   "outputs": [
    {
     "name": "stdout",
     "output_type": "stream",
     "text": [
      "Original Array - 1st : \n",
      "[1. 1. 1. 1. 1. 1. 1. 1. 1. 1.]\n",
      "-----------------------------------------------------------------------------------------------------\n",
      "The Second array : \n",
      "[2 4 9 8 0 1 7 0 3 7 4 2 3 5 5 1 0 1 9 9]\n",
      "-----------------------------------------------------------------------------------------------------\n",
      "The bin_count : \n",
      "[3 3 2 2 2 2 0 2 1 3]\n",
      "-----------------------------------------------------------------------------------------------------\n",
      "Result after the summation\n",
      "[4. 4. 3. 3. 3. 3. 1. 3. 2. 4.]\n",
      "-----------------------------------------------------------------------------------------------------\n"
     ]
    }
   ],
   "source": [
    "Z = np.ones(10) #Initialize array with all 1s, size of 10\n",
    "print(\"Original Array - 1st : \")\n",
    "print(Z)\n",
    "print(\"-----------------------------------------------------------------------------------------------------\")\n",
    "I = np.random.randint(0, len(Z), 20) #The vector holds 10 (Length of the Z array) random values between 0 and 20\n",
    "print(\"The Second array : \")\n",
    "print(I)\n",
    "print(\"-----------------------------------------------------------------------------------------------------\")\n",
    "'''\n",
    "The np.bincount() is a numpy library method used to obtain the frequency of each element provided inside a numpy array. \n",
    "The numpy bincount() method takes arr_name, weights, and minlength as arguments and returns the ndarray of integers.\n",
    "'''\n",
    "bin_count = np.bincount(I, minlength=len(Z))\n",
    "print(\"The bin_count : \")\n",
    "print(bin_count)\n",
    "print(\"-----------------------------------------------------------------------------------------------------\")\n",
    "result = Z + bin_count\n",
    "print(\"Result after the summation\")\n",
    "print(result)\n",
    "print(\"-----------------------------------------------------------------------------------------------------\")"
   ]
  },
  {
   "cell_type": "markdown",
   "id": "7d39a41a",
   "metadata": {},
   "source": [
    "# 56. Accumulate elements of a vector (X) to an array (F) based on an index list (I)?"
   ]
  },
  {
   "cell_type": "code",
   "execution_count": 57,
   "id": "e9fa1180",
   "metadata": {},
   "outputs": [
    {
     "name": "stdout",
     "output_type": "stream",
     "text": [
      "X Array : \n",
      "[1, 2, 3, 4, 5, 6]\n",
      "--------------------------------------------------\n",
      "I Array : \n",
      "[1, 3, 9, 3, 4, 1]\n",
      "--------------------------------------------------\n",
      "[0. 7. 0. 6. 5. 0. 0. 0. 0. 3.]\n"
     ]
    }
   ],
   "source": [
    "X = [1,2,3,4,5,6]\n",
    "print(\"X Array : \")\n",
    "print(X)\n",
    "print(\"--------------------------------------------------\")\n",
    "I = [1,3,9,3,4,1]\n",
    "print(\"I Array : \")\n",
    "print(I)\n",
    "print(\"--------------------------------------------------\")\n",
    "F = np.bincount(I, X)\n",
    "print(F)"
   ]
  },
  {
   "cell_type": "markdown",
   "id": "eea9a833",
   "metadata": {},
   "source": [
    "# 57. Considering a (w,h,3) image of (dtype=ubyte), compute the number of unique colors"
   ]
  },
  {
   "cell_type": "code",
   "execution_count": 58,
   "id": "5fb6b309",
   "metadata": {},
   "outputs": [
    {
     "name": "stdout",
     "output_type": "stream",
     "text": [
      "[0 1]\n"
     ]
    }
   ],
   "source": [
    "w,h = 16,16\n",
    "I = np.random.randint(0,2,(h,w,3)).astype(np.ubyte) #numpy.ubyte - Unsigned integer type, compatible with C unsigned char.\n",
    "F = I[...,0]*256*256 + I[...,1]*256 +I[...,2]\n",
    "n = len(np.unique(F))\n",
    "print(np.unique(I))"
   ]
  },
  {
   "cell_type": "markdown",
   "id": "b80f488f",
   "metadata": {},
   "source": [
    "# 58. In a 4D array, get the sum over the last two axis at once"
   ]
  },
  {
   "cell_type": "code",
   "execution_count": 59,
   "id": "c2a06380",
   "metadata": {},
   "outputs": [
    {
     "name": "stdout",
     "output_type": "stream",
     "text": [
      "Initialized Array : \n",
      "[[[[7 9 4 3]\n",
      "   [8 5 3 0]\n",
      "   [9 6 5 3]]\n",
      "\n",
      "  [[3 7 7 7]\n",
      "   [6 4 4 8]\n",
      "   [7 1 5 8]]\n",
      "\n",
      "  [[4 7 6 1]\n",
      "   [5 1 4 1]\n",
      "   [6 1 0 4]]\n",
      "\n",
      "  [[1 5 4 0]\n",
      "   [3 8 4 3]\n",
      "   [9 9 7 6]]]\n",
      "\n",
      "\n",
      " [[[6 6 7 2]\n",
      "   [9 6 6 8]\n",
      "   [5 1 6 1]]\n",
      "\n",
      "  [[3 1 2 4]\n",
      "   [3 6 3 2]\n",
      "   [9 0 8 8]]\n",
      "\n",
      "  [[6 3 4 0]\n",
      "   [2 8 7 8]\n",
      "   [5 3 6 2]]\n",
      "\n",
      "  [[2 8 6 3]\n",
      "   [6 3 5 9]\n",
      "   [3 1 5 0]]]\n",
      "\n",
      "\n",
      " [[[2 8 7 0]\n",
      "   [5 8 0 6]\n",
      "   [9 2 3 3]]\n",
      "\n",
      "  [[5 2 6 8]\n",
      "   [2 9 9 0]\n",
      "   [6 8 0 2]]\n",
      "\n",
      "  [[6 5 3 9]\n",
      "   [0 2 1 6]\n",
      "   [7 7 4 6]]\n",
      "\n",
      "  [[2 7 4 6]\n",
      "   [2 5 7 5]\n",
      "   [5 8 0 2]]]]\n",
      "------------------------------------------------------\n",
      "[[62 67 40 59]\n",
      " [63 49 54 51]\n",
      " [53 57 56 53]]\n"
     ]
    }
   ],
   "source": [
    "A = np.random.randint(0,10,(3,4,3,4))\n",
    "print(\"Initialized Array : \")\n",
    "print(A)\n",
    "print(\"------------------------------------------------------\")\n",
    "sum = A.reshape(A.shape[:-2] + (-1,)).sum(axis=-1)\n",
    "print(sum)"
   ]
  },
  {
   "cell_type": "markdown",
   "id": "58aa1a8a",
   "metadata": {},
   "source": [
    "# 59. In a 1D Vecotor `D`, compute means of subsets of `D` using a vector `S` of same size describing subset indices"
   ]
  },
  {
   "cell_type": "code",
   "execution_count": 60,
   "id": "ed746dca",
   "metadata": {},
   "outputs": [
    {
     "name": "stdout",
     "output_type": "stream",
     "text": [
      "Initialized Array D : \n",
      "[0.33429302 0.11371275 0.08507687 0.62068783 0.25217231 0.24479989\n",
      " 0.61752086 0.84547516 0.65387376 0.1966771  0.61299456 0.27990846\n",
      " 0.83044666 0.42660103 0.549263   0.57974964 0.3242861  0.4016818\n",
      " 0.03239742 0.44769817 0.1577528  0.46316215 0.16976322 0.02064916\n",
      " 0.65031563 0.65931645 0.79526573 0.9192546  0.46358898 0.65508135\n",
      " 0.78645783 0.14852164 0.53655458 0.12742841 0.76890525 0.22544407\n",
      " 0.39403367 0.23319425 0.47268076 0.98232052 0.73312289 0.77331653\n",
      " 0.18891503 0.78540651 0.74826383 0.09982746 0.56040328 0.85207855\n",
      " 0.91480435 0.05105901 0.36657518 0.11682669 0.54479499 0.60501656\n",
      " 0.57272683 0.34425954 0.32399815 0.05226367 0.17804256 0.24241578\n",
      " 0.0984964  0.70725413 0.79652205 0.73466503 0.21898523 0.83758857\n",
      " 0.55071857 0.63797803 0.41798045 0.31410235 0.30367539 0.69237133\n",
      " 0.98940373 0.51832525 0.31889521 0.77521504 0.9931425  0.72973382\n",
      " 0.72483451 0.43851286 0.40281986 0.16009293 0.7707933  0.8462659\n",
      " 0.5341591  0.85220242 0.98656782 0.54001033 0.80995164 0.3889079\n",
      " 0.88249499 0.38066748 0.03405623 0.97496696 0.19023996 0.70426898\n",
      " 0.95101479 0.17544574 0.40437373 0.71446595]\n",
      "------------------------------------------------------\n",
      "Initialized Array S : \n",
      "[7 4 7 6 5 4 7 1 4 0 9 6 7 8 2 3 8 3 6 2 0 7 4 3 8 5 9 1 6 4 7 8 4 9 6 2 1\n",
      " 7 7 4 1 9 3 3 3 2 9 3 9 9 6 8 0 2 7 5 9 1 7 1 1 2 1 7 6 6 6 4 6 1 6 0 3 2\n",
      " 4 7 3 0 6 8 9 9 9 4 1 5 2 2 4 0 2 3 3 7 9 4 7 2 1 9]\n",
      "------------------------------------------------------\n",
      "[2.71023794 5.33421941 5.73734752 5.97401446 6.67346583 2.10795072\n",
      " 5.58584584 8.00946362 2.10506395 6.39768202]\n",
      "The counts of each element from the vector S :  [ 6 11 11 11 12  4 12 14  6 13]\n",
      "------------------------------------------------------\n",
      "The mean value :  [0.45170632 0.48492904 0.52157705 0.54309222 0.55612215 0.52698768\n",
      " 0.46548715 0.57210454 0.35084399 0.49212939]\n"
     ]
    }
   ],
   "source": [
    "D = np.random.uniform(0,1,100)\n",
    "print(\"Initialized Array D : \")\n",
    "print(D)\n",
    "print(\"------------------------------------------------------\")\n",
    "S = np.random.randint(0,10,100)\n",
    "print(\"Initialized Array S : \")\n",
    "print(S)\n",
    "print(\"------------------------------------------------------\")\n",
    "D_sums = np.bincount(S, weights=D)\n",
    "print(D_sums)\n",
    "D_counts = np.bincount(S)\n",
    "print(\"The counts of each element from the vector S : \", D_counts)\n",
    "print(\"------------------------------------------------------\")\n",
    "D_means = D_sums / D_counts\n",
    "print(\"The mean value : \", D_means)"
   ]
  },
  {
   "cell_type": "markdown",
   "id": "fc4bd7c9",
   "metadata": {},
   "source": [
    "# 60. Get the diagonal of a dot product"
   ]
  },
  {
   "cell_type": "code",
   "execution_count": 61,
   "id": "bd982c9b",
   "metadata": {},
   "outputs": [
    {
     "name": "stdout",
     "output_type": "stream",
     "text": [
      "Array A : \n",
      "[[0.67702736 0.14856685 0.70755652]\n",
      " [0.06833949 0.97987203 0.23645703]\n",
      " [0.83123298 0.73338085 0.04311305]]\n",
      "------------------------------------------------------\n",
      "Array B : \n",
      "[[0.24665211 0.4314887  0.1728591 ]\n",
      " [0.81602279 0.94341164 0.81594546]\n",
      " [0.053612   0.18445698 0.81381463]]\n",
      "------------------------------------------------------\n",
      "[0.32615768 0.99752654 0.77717099]\n"
     ]
    }
   ],
   "source": [
    "A = np.random.rand(3, 3)\n",
    "B = np.random.rand(3, 3)\n",
    "\n",
    "print(\"Array A : \")\n",
    "print(A)\n",
    "print(\"------------------------------------------------------\")\n",
    "\n",
    "print(\"Array B : \")\n",
    "print(B)\n",
    "print(\"------------------------------------------------------\")\n",
    "\n",
    "result = np.diag(np.dot(A, B))\n",
    "print(result)"
   ]
  },
  {
   "cell_type": "markdown",
   "id": "5b96b655",
   "metadata": {},
   "source": [
    "# 61. From the vector `[1, 2, 3, 4, 5]`, build a new vector with 3 consecutive zeros interleaved between each value"
   ]
  },
  {
   "cell_type": "code",
   "execution_count": 62,
   "id": "8287ea9d",
   "metadata": {},
   "outputs": [
    {
     "name": "stdout",
     "output_type": "stream",
     "text": [
      "Length of Z :  5\n",
      "------------------------------------------------------\n",
      "Zero Array : \n",
      "[0. 0. 0. 0. 0. 0. 0. 0. 0. 0. 0. 0. 0. 0. 0. 0. 0.]\n",
      "------------------------------------------------------\n",
      "[1. 0. 0. 0. 2. 0. 0. 0. 3. 0. 0. 0. 4. 0. 0. 0. 5.]\n"
     ]
    }
   ],
   "source": [
    "Z = np.array([1,2,3,4,5])\n",
    "nz = 3 #Number of zeros should be placed between each value in the vector\n",
    "Z_len = len(Z)\n",
    "print(\"Length of Z : \", Z_len)\n",
    "print(\"------------------------------------------------------\")\n",
    "Z0 = np.zeros(Z_len + (Z_len-1)*(nz)) #Initializing a Zero vector of size (Length of the vector + the number of zeros between each value)\n",
    "print(\"Zero Array : \")\n",
    "print(Z0)\n",
    "print(\"------------------------------------------------------\")\n",
    "Z0[::nz+1] = Z\n",
    "print(Z0)"
   ]
  },
  {
   "cell_type": "markdown",
   "id": "e70bf30b",
   "metadata": {},
   "source": [
    "# 62. Multiply two arrays. Array1 of dimension 5X5X3 and Array2 of dimension 5X5"
   ]
  },
  {
   "cell_type": "code",
   "execution_count": 63,
   "id": "c813045b",
   "metadata": {},
   "outputs": [
    {
     "name": "stdout",
     "output_type": "stream",
     "text": [
      "Array A : \n",
      "[[[1. 1. 1.]\n",
      "  [1. 1. 1.]\n",
      "  [1. 1. 1.]\n",
      "  [1. 1. 1.]\n",
      "  [1. 1. 1.]]\n",
      "\n",
      " [[1. 1. 1.]\n",
      "  [1. 1. 1.]\n",
      "  [1. 1. 1.]\n",
      "  [1. 1. 1.]\n",
      "  [1. 1. 1.]]\n",
      "\n",
      " [[1. 1. 1.]\n",
      "  [1. 1. 1.]\n",
      "  [1. 1. 1.]\n",
      "  [1. 1. 1.]\n",
      "  [1. 1. 1.]]\n",
      "\n",
      " [[1. 1. 1.]\n",
      "  [1. 1. 1.]\n",
      "  [1. 1. 1.]\n",
      "  [1. 1. 1.]\n",
      "  [1. 1. 1.]]\n",
      "\n",
      " [[1. 1. 1.]\n",
      "  [1. 1. 1.]\n",
      "  [1. 1. 1.]\n",
      "  [1. 1. 1.]\n",
      "  [1. 1. 1.]]]\n",
      "------------------------------------------------------\n",
      "Array B : \n",
      "[[2. 2. 2. 2. 2.]\n",
      " [2. 2. 2. 2. 2.]\n",
      " [2. 2. 2. 2. 2.]\n",
      " [2. 2. 2. 2. 2.]\n",
      " [2. 2. 2. 2. 2.]]\n",
      "------------------------------------------------------\n",
      "Multiplication between A and B :\n",
      "[[[2. 2. 2.]\n",
      "  [2. 2. 2.]\n",
      "  [2. 2. 2.]\n",
      "  [2. 2. 2.]\n",
      "  [2. 2. 2.]]\n",
      "\n",
      " [[2. 2. 2.]\n",
      "  [2. 2. 2.]\n",
      "  [2. 2. 2.]\n",
      "  [2. 2. 2.]\n",
      "  [2. 2. 2.]]\n",
      "\n",
      " [[2. 2. 2.]\n",
      "  [2. 2. 2.]\n",
      "  [2. 2. 2.]\n",
      "  [2. 2. 2.]\n",
      "  [2. 2. 2.]]\n",
      "\n",
      " [[2. 2. 2.]\n",
      "  [2. 2. 2.]\n",
      "  [2. 2. 2.]\n",
      "  [2. 2. 2.]\n",
      "  [2. 2. 2.]]\n",
      "\n",
      " [[2. 2. 2.]\n",
      "  [2. 2. 2.]\n",
      "  [2. 2. 2.]\n",
      "  [2. 2. 2.]\n",
      "  [2. 2. 2.]]]\n"
     ]
    }
   ],
   "source": [
    "A = np.ones((5,5,3))\n",
    "print(\"Array A : \")\n",
    "print(A)\n",
    "print(\"------------------------------------------------------\")\n",
    "B = 2*np.ones((5,5))\n",
    "print(\"Array B : \")\n",
    "print(B)\n",
    "print(\"------------------------------------------------------\")\n",
    "print(\"Multiplication between A and B :\")\n",
    "print(A * B[:,:,None])"
   ]
  },
  {
   "cell_type": "markdown",
   "id": "fdb0ed93",
   "metadata": {},
   "source": [
    "# 63. Swap two rows of an Array"
   ]
  },
  {
   "cell_type": "code",
   "execution_count": 64,
   "id": "352487f0",
   "metadata": {},
   "outputs": [
    {
     "name": "stdout",
     "output_type": "stream",
     "text": [
      "Initialized Array\n",
      "[[ 0  1  2  3  4]\n",
      " [ 5  6  7  8  9]\n",
      " [10 11 12 13 14]\n",
      " [15 16 17 18 19]\n",
      " [20 21 22 23 24]]\n",
      "------------------------------------------------------\n",
      "Swap array rows 0th and 1st Index\n",
      "[[ 5  6  7  8  9]\n",
      " [ 0  1  2  3  4]\n",
      " [10 11 12 13 14]\n",
      " [15 16 17 18 19]\n",
      " [20 21 22 23 24]]\n"
     ]
    }
   ],
   "source": [
    "A = np.arange(25).reshape(5,5)\n",
    "print(\"Initialized Array\")\n",
    "print(A)\n",
    "print(\"------------------------------------------------------\")\n",
    "print(\"Swap array rows 0th and 1st Index\")\n",
    "A[[0, 1]] = A[[1, 0]]\n",
    "print(A)"
   ]
  },
  {
   "cell_type": "markdown",
   "id": "688cfe20",
   "metadata": {},
   "source": [
    "# 64. Consider a set of 10 triplets describing 10 triangles (with shared vertices), find the set of unique line segments composing all the triangles"
   ]
  },
  {
   "cell_type": "code",
   "execution_count": 65,
   "id": "55199036",
   "metadata": {},
   "outputs": [
    {
     "name": "stdout",
     "output_type": "stream",
     "text": [
      "[( 3, 75) ( 3, 76) ( 8, 50) ( 8, 93) (10, 42) (10, 92) (11, 42) (11, 94)\n",
      " (14, 15) (14, 83) (15, 83) (21, 40) (21, 60) (23, 47) (23, 53) (31, 63)\n",
      " (31, 69) (33, 36) (33, 96) (36, 96) (38, 41) (38, 68) (40, 60) (41, 68)\n",
      " (42, 92) (42, 94) (47, 53) (50, 93) (63, 69) (75, 76)]\n"
     ]
    }
   ],
   "source": [
    "faces = np.random.randint(0,100,(10,3))\n",
    "F = np.roll(faces.repeat(2,axis=1),-1,axis=1)\n",
    "F = F.reshape(len(F)*3,2)\n",
    "F = np.sort(F,axis=1)\n",
    "G = F.view( dtype=[('p0',F.dtype),('p1',F.dtype)] )\n",
    "G = np.unique(G)\n",
    "print(G)"
   ]
  },
  {
   "cell_type": "markdown",
   "id": "680b548e",
   "metadata": {},
   "source": [
    "# 65. Given an array C that is a bincount, how to produce an array A such that `np.bincount(A) == C`?"
   ]
  },
  {
   "cell_type": "code",
   "execution_count": 66,
   "id": "199096b7",
   "metadata": {},
   "outputs": [
    {
     "name": "stdout",
     "output_type": "stream",
     "text": [
      "C Array\n",
      "[0 2 1 1 2 0 1]\n",
      "------------------------------------------------------\n",
      "[1 1 2 3 4 4 6]\n"
     ]
    }
   ],
   "source": [
    "C = np.bincount([1,1,2,3,4,4,6])\n",
    "print(\"C Array\")\n",
    "print(C)\n",
    "print(\"------------------------------------------------------\")\n",
    "A = np.repeat(np.arange(len(C)), C)\n",
    "print(A)"
   ]
  },
  {
   "cell_type": "markdown",
   "id": "4913b742",
   "metadata": {},
   "source": [
    "# 66. Compute Averages using a sliding window over an array"
   ]
  },
  {
   "cell_type": "code",
   "execution_count": 67,
   "id": "57572d7d",
   "metadata": {},
   "outputs": [
    {
     "name": "stdout",
     "output_type": "stream",
     "text": [
      "Initialized Array\n",
      "[ 0  1  2  3  4  5  6  7  8  9 10 11 12 13 14 15 16 17 18 19]\n",
      "------------------------------------------------------\n",
      "Array after moving average\n",
      "[ 1.  2.  3.  4.  5.  6.  7.  8.  9. 10. 11. 12. 13. 14. 15. 16. 17. 18.]\n"
     ]
    }
   ],
   "source": [
    "def moving_average(a, n=3) :\n",
    "    ret = np.cumsum(a, dtype=float)\n",
    "    ret[n:] = ret[n:] - ret[:-n]\n",
    "    return ret[n - 1:] / n\n",
    "Z = np.arange(20)\n",
    "print(\"Initialized Array\")\n",
    "print(Z)\n",
    "print(\"------------------------------------------------------\")\n",
    "print(\"Array after moving average\")\n",
    "print(moving_average(Z, n=3))"
   ]
  },
  {
   "cell_type": "markdown",
   "id": "d9520593",
   "metadata": {},
   "source": [
    "# 67. Consider a onedimensional array Z, build a twodimensional array whose first row is `(Z[0],Z[1],Z[2])` and each subsequent row is shifted by 1 (last row  should be `(Z[3], Z[2], Z[1])`"
   ]
  },
  {
   "cell_type": "code",
   "execution_count": 68,
   "id": "38c75eb3",
   "metadata": {},
   "outputs": [
    {
     "name": "stdout",
     "output_type": "stream",
     "text": [
      "[[0 1 2]\n",
      " [1 2 3]\n",
      " [2 3 4]\n",
      " [3 4 5]\n",
      " [4 5 6]\n",
      " [5 6 7]\n",
      " [6 7 8]\n",
      " [7 8 9]]\n"
     ]
    }
   ],
   "source": [
    "from numpy.lib import stride_tricks\n",
    "\n",
    "def rolling(a, window):\n",
    "    shape = (a.size - window + 1, window)\n",
    "    strides = (a.itemsize, a.itemsize)\n",
    "    return stride_tricks.as_strided(a, shape=shape, strides=strides)\n",
    "\n",
    "Z = rolling(np.arange(10), 3)\n",
    "print(Z)"
   ]
  },
  {
   "cell_type": "markdown",
   "id": "59fe4465",
   "metadata": {},
   "source": [
    "# 68.Negate a `boolean`"
   ]
  },
  {
   "cell_type": "code",
   "execution_count": 69,
   "id": "21fe1338",
   "metadata": {},
   "outputs": [
    {
     "name": "stdout",
     "output_type": "stream",
     "text": [
      "Initialized Array \n",
      "[1 0 1 0 1 0 0 0 0 0 1 0 0 0 0 1 0 1 0 1 0 1 0 0 0 1 1 0 0 0 0 0 1 1 0 1 0\n",
      " 1 0 1 1 0 0 1 0 0 1 1 1 1 0 0 0 0 1 1 0 0 0 1 1 0 1 1 1 1 1 1 0 0 1 0 1 1\n",
      " 1 1 1 0 0 0 0 1 1 0 0 0 0 1 1 1 0 1 0 0 0 0 0 0 1 0]\n",
      "------------------------------------------------------\n",
      "Result after negation\n",
      "[0 1 0 1 0 1 1 1 1 1 0 1 1 1 1 0 1 0 1 0 1 0 1 1 1 0 0 1 1 1 1 1 0 0 1 0 1\n",
      " 0 1 0 0 1 1 0 1 1 0 0 0 0 1 1 1 1 0 0 1 1 1 0 0 1 0 0 0 0 0 0 1 1 0 1 0 0\n",
      " 0 0 0 1 1 1 1 0 0 1 1 1 1 0 0 0 1 0 1 1 1 1 1 1 0 1]\n"
     ]
    }
   ],
   "source": [
    "Z = np.random.randint(0,2,100)\n",
    "print(\"Initialized Array \")\n",
    "print(Z)\n",
    "print(\"------------------------------------------------------\")\n",
    "print(\"Result after negation\")\n",
    "result = np.logical_not(Z, out=Z)\n",
    "print(result)"
   ]
  },
  {
   "cell_type": "markdown",
   "id": "3dea2fe1",
   "metadata": {},
   "source": [
    "# 69. Consider 2 sets of points `P0`,`P1` describing lines (2d) and a point `p`, how to compute distance from `p` to each line `i` `(P0[i],P1[i])`?"
   ]
  },
  {
   "cell_type": "code",
   "execution_count": 70,
   "id": "791934df",
   "metadata": {},
   "outputs": [
    {
     "name": "stdout",
     "output_type": "stream",
     "text": [
      "Point P0\n",
      "[[-0.05312987 -1.5136354 ]\n",
      " [ 5.56810176  1.79087691]\n",
      " [ 5.36945111 -3.53473114]\n",
      " [-6.69586591  7.55041497]\n",
      " [ 9.87440277 -2.92390661]\n",
      " [-7.83606142 -0.27031523]\n",
      " [-9.99057497  8.74552328]\n",
      " [-7.34977122 -8.51067217]\n",
      " [-6.76997123  0.63453712]\n",
      " [-8.36731298 -0.52197313]]\n",
      "------------------------------------------------------\n",
      "Point P1\n",
      "[[ 8.82386535  8.2363272 ]\n",
      " [-9.31191405 -4.24885611]\n",
      " [-7.63744453  5.86395789]\n",
      " [ 3.70789079 -4.52704432]\n",
      " [ 4.98807533  0.14044622]\n",
      " [ 5.84464979 -3.78203314]\n",
      " [-9.125038   -5.43410052]\n",
      " [ 2.59140763  6.329828  ]\n",
      " [ 1.571375    2.32629201]\n",
      " [ 3.26664006 -0.70459582]]\n",
      "------------------------------------------------------\n",
      "Point p\n",
      "[[2.7181031  7.84079173]]\n",
      "------------------------------------------------------\n",
      "[ 4.24852424  6.6776071   7.66741555  7.32204143  5.31760871 10.48049382\n",
      " 12.62994479  0.73565099  5.17653216  8.53572539]\n"
     ]
    }
   ],
   "source": [
    "def distance(P0, P1, p):\n",
    "    T = P1 - P0\n",
    "    L = (T**2).sum(axis=1)\n",
    "    U = -((P0[:,0]-p[...,0])*T[:,0] + (P0[:,1]-p[...,1])*T[:,1]) / L\n",
    "    U = U.reshape(len(U),1)\n",
    "    D = P0 + U*T - p\n",
    "    return np.sqrt((D**2).sum(axis=1))\n",
    "\n",
    "P0 = np.random.uniform(-10,10,(10,2))\n",
    "print(\"Point P0\")\n",
    "print(P0)\n",
    "print(\"------------------------------------------------------\")\n",
    "P1 = np.random.uniform(-10,10,(10,2))\n",
    "print(\"Point P1\")\n",
    "print(P1)\n",
    "print(\"------------------------------------------------------\")\n",
    "p = np.random.uniform(-10,10,( 1,2))\n",
    "print(\"Point p\")\n",
    "print(p)\n",
    "print(\"------------------------------------------------------\")\n",
    "distance_result = distance(P0, P1, p)\n",
    "print(distance_result)"
   ]
  },
  {
   "cell_type": "markdown",
   "id": "ae4b0d3f",
   "metadata": {},
   "source": [
    "# 70. Consider 2 sets of points `P0`,`P1` describing lines (2d) and a set of points `P`, how to compute distance from each point `j` `(P[j])` to each line `i` `(P0[i],P1[i])`?"
   ]
  },
  {
   "cell_type": "code",
   "execution_count": 71,
   "id": "165f0066",
   "metadata": {},
   "outputs": [
    {
     "name": "stdout",
     "output_type": "stream",
     "text": [
      "Point P0\n",
      "[[ 6.3628778   7.75044202]\n",
      " [-8.61651201 -8.63062632]\n",
      " [-1.58372698  1.85326638]\n",
      " [-1.13163668 -8.16307174]\n",
      " [-9.95194463  5.84542181]\n",
      " [-3.71113365  7.65149546]\n",
      " [-2.89188081 -7.03332904]\n",
      " [-7.85149898 -2.74739672]\n",
      " [-8.673302    2.83798362]\n",
      " [-1.88726765 -0.28895444]]\n",
      "------------------------------------------------------\n",
      "Point P1\n",
      "[[ 0.19996416  8.84447599]\n",
      " [ 8.66696699  9.01506693]\n",
      " [ 2.04446548 -4.60873658]\n",
      " [-5.80520327 -5.58392024]\n",
      " [-8.77445325  9.39108586]\n",
      " [ 1.05766141 -3.30425316]\n",
      " [-5.76537562 -0.47253017]\n",
      " [ 0.88491062  3.99390696]\n",
      " [-2.401969    3.47620669]\n",
      " [-5.91143943  5.16140532]]\n",
      "------------------------------------------------------\n",
      "[[ 7.28156936  2.92831909  4.80512328 10.49843321 15.43369447  4.82626967\n",
      "   9.94514709  4.89644746  3.50039942  5.78145552]\n",
      " [ 2.5386911   0.1109991   7.68141305 14.93212661 14.57862115  7.30702336\n",
      "  12.43507465  1.57860169  1.10854721  9.1038893 ]\n",
      " [14.20782454 10.16036126  3.52336625  5.2421721  20.41868259  4.34892738\n",
      "   9.44966    12.53535489 11.26405353  3.52840789]\n",
      " [11.03849098  8.78421507  5.91951056  8.40283638 20.45424332  6.51760456\n",
      "  11.62369617 10.77209718  8.3520221   6.17073432]\n",
      " [14.87906554  9.30196683  1.93947473  4.12338639 19.0331894   2.72956874\n",
      "   7.83091736 11.87846907 11.49982905  2.01030789]\n",
      " [12.81528194  9.42741997  4.45608932  6.58076783 20.28056707  5.17237378\n",
      "  10.27565639 11.64565952  9.94205922  4.58245618]\n",
      " [ 5.52630741  4.95282999  8.74083486 13.33796497 18.79286914  8.83871194\n",
      "  13.95631377  6.41690659  2.81091833  9.56770436]\n",
      " [15.70288934  4.16566891  3.82645286  1.15466847 12.44002602  3.37687911\n",
      "   1.73144281  7.41386982 10.43648695  3.2561352 ]\n",
      " [ 9.34324665  5.25785345  4.58913488  9.00295876 17.12944917  4.8625878\n",
      "   9.97579492  7.32870858  5.86992752  5.25821496]\n",
      " [ 0.73577859  3.62776283  7.98807346 17.29213188 11.83875258  7.21012936\n",
      "  12.3472457   2.31927655  4.88483997  9.90253082]]\n"
     ]
    }
   ],
   "source": [
    "P0 = np.random.uniform(-10, 10, (10,2))\n",
    "print(\"Point P0\")\n",
    "print(P0)\n",
    "print(\"------------------------------------------------------\")\n",
    "P1 = np.random.uniform(-10,10,(10,2))\n",
    "print(\"Point P1\")\n",
    "print(P1)\n",
    "print(\"------------------------------------------------------\")\n",
    "p = np.random.uniform(-10, 10, (10,2))\n",
    "print(np.array([distance(P0,P1,p_i) for p_i in p]))"
   ]
  },
  {
   "cell_type": "markdown",
   "id": "f42b0f8e",
   "metadata": {},
   "source": [
    "# 71. Consider an arbitrary array, write a function that extract a subpart with a fixed shape and centered on a given element (pad with a fill value when necessary)"
   ]
  },
  {
   "cell_type": "code",
   "execution_count": 72,
   "id": "d696b112",
   "metadata": {},
   "outputs": [
    {
     "name": "stdout",
     "output_type": "stream",
     "text": [
      "[[9 0 5 2 1 0 8 1 9 2]\n",
      " [1 3 7 8 9 8 4 4 0 1]\n",
      " [9 6 9 3 6 1 7 9 5 6]\n",
      " [8 9 1 0 9 2 6 8 5 8]\n",
      " [2 4 7 5 8 4 7 9 7 0]\n",
      " [8 7 5 5 2 2 0 4 9 9]\n",
      " [2 6 5 8 4 6 7 0 3 9]\n",
      " [4 3 4 6 7 2 1 1 4 3]\n",
      " [5 4 5 7 5 7 7 3 7 0]\n",
      " [7 7 7 9 8 1 0 8 8 0]]\n",
      "[[0 0 0 0 0]\n",
      " [0 9 0 5 2]\n",
      " [0 1 3 7 8]\n",
      " [0 9 6 9 3]\n",
      " [0 8 9 1 0]]\n"
     ]
    },
    {
     "name": "stderr",
     "output_type": "stream",
     "text": [
      "C:\\Users\\Bala\\AppData\\Local\\Temp\\ipykernel_14252\\1035071397.py:23: FutureWarning: Using a non-tuple sequence for multidimensional indexing is deprecated; use `arr[tuple(seq)]` instead of `arr[seq]`. In the future this will be interpreted as an array index, `arr[np.array(seq)]`, which will result either in an error or a different result.\n",
      "  R[r] = Z[z]\n"
     ]
    }
   ],
   "source": [
    "Z = np.random.randint(0,10,(10,10))\n",
    "shape = (5,5)\n",
    "fill = 0\n",
    "position = (1,1)\n",
    "\n",
    "R = np.ones(shape, dtype=Z.dtype)*fill\n",
    "P = np.array(list(position)).astype(int)\n",
    "Rs = np.array(list(R.shape)).astype(int)\n",
    "Zs = np.array(list(Z.shape)).astype(int)\n",
    "\n",
    "R_start = np.zeros((len(shape),)).astype(int)\n",
    "R_stop = np.array(list(shape)).astype(int)\n",
    "Z_start = (P-Rs//2)\n",
    "Z_stop = (P+Rs//2)+Rs%2\n",
    "\n",
    "R_start = (R_start - np.minimum(Z_start,0)).tolist()\n",
    "Z_start = (np.maximum(Z_start,0)).tolist()\n",
    "R_stop = np.maximum(R_start, (R_stop - np.maximum(Z_stop-Zs,0))).tolist()\n",
    "Z_stop = (np.minimum(Z_stop,Zs)).tolist()\n",
    "\n",
    "r = [slice(start,stop) for start,stop in zip(R_start,R_stop)]\n",
    "z = [slice(start,stop) for start,stop in zip(Z_start,Z_stop)]\n",
    "R[r] = Z[z]\n",
    "\n",
    "print(Z)\n",
    "print(R)"
   ]
  },
  {
   "cell_type": "markdown",
   "id": "5ecf55b1",
   "metadata": {},
   "source": [
    "# 72. Consider an array `Z = [1,2,3,4,5,6,7,8,9,10,11,12,13,14]`, how to generate an array `R = [[1,2,3,4], [2,3,4,5], [3,4,5,6], ..., [11,12,13,14]]` ? "
   ]
  },
  {
   "cell_type": "code",
   "execution_count": 73,
   "id": "0b0e92ea",
   "metadata": {},
   "outputs": [
    {
     "name": "stdout",
     "output_type": "stream",
     "text": [
      "Initialized Array : \n",
      "[ 1  2  3  4  5  6  7  8  9 10 11 12 13 14]\n",
      "------------------------------------------------------\n",
      "The result after applying Strides : \n",
      "[[ 1  2  3  4]\n",
      " [ 2  3  4  5]\n",
      " [ 3  4  5  6]\n",
      " [ 4  5  6  7]\n",
      " [ 5  6  7  8]\n",
      " [ 6  7  8  9]\n",
      " [ 7  8  9 10]\n",
      " [ 8  9 10 11]\n",
      " [ 9 10 11 12]\n",
      " [10 11 12 13]\n",
      " [11 12 13 14]]\n"
     ]
    }
   ],
   "source": [
    "Z = np.arange(1,15,dtype=np.int32)\n",
    "print(\"Initialized Array : \")\n",
    "print(Z)\n",
    "print(\"------------------------------------------------------\")\n",
    "R = stride_tricks.as_strided(Z,(11,4),(4,4))\n",
    "print(\"The result after applying Strides : \")\n",
    "print(R)"
   ]
  },
  {
   "cell_type": "markdown",
   "id": "0aa54c4c",
   "metadata": {},
   "source": [
    "# 73. Matrix `rank` computation"
   ]
  },
  {
   "cell_type": "code",
   "execution_count": 74,
   "id": "e512bc84",
   "metadata": {},
   "outputs": [
    {
     "name": "stdout",
     "output_type": "stream",
     "text": [
      "Initialized Array : \n",
      "[[0.31084249 0.80432083 0.87203705 0.20529497 0.01142092 0.55665127\n",
      "  0.71538675 0.95905376 0.25714771 0.0213163 ]\n",
      " [0.69214096 0.94663588 0.18782814 0.4666368  0.36890114 0.49412008\n",
      "  0.7132778  0.05054471 0.84082814 0.07246721]\n",
      " [0.65502159 0.34428952 0.57034097 0.89209928 0.60347892 0.42758065\n",
      "  0.73386666 0.10537604 0.69056206 0.72914857]\n",
      " [0.44937984 0.46495325 0.87673874 0.61095574 0.62118266 0.90142667\n",
      "  0.31623426 0.51088184 0.75093097 0.07063916]\n",
      " [0.70894968 0.18363379 0.34985004 0.90699374 0.56791791 0.98882421\n",
      "  0.78139237 0.82131857 0.616056   0.2092135 ]\n",
      " [0.03900103 0.08098534 0.87076217 0.04925728 0.37287823 0.53156027\n",
      "  0.24029318 0.07984821 0.73432902 0.23891631]\n",
      " [0.11045387 0.60382026 0.80278862 0.24807748 0.62910999 0.97843326\n",
      "  0.77050175 0.64197997 0.51852287 0.90455748]\n",
      " [0.09047157 0.36317746 0.46717038 0.39154307 0.82427924 0.32311431\n",
      "  0.57396846 0.20821184 0.99396141 0.58729055]\n",
      " [0.64936422 0.86396086 0.63260492 0.18672603 0.96859312 0.03925236\n",
      "  0.77312305 0.65115819 0.75386937 0.20749502]\n",
      " [0.18560461 0.07251557 0.39864315 0.79162071 0.13358717 0.39367825\n",
      "  0.79796662 0.45373903 0.03943473 0.1080074 ]]\n",
      "------------------------------------------------------\n",
      "Rank is :  10\n"
     ]
    }
   ],
   "source": [
    "Z = np.random.uniform(0,1,(10,10))\n",
    "print(\"Initialized Array : \")\n",
    "print(Z)\n",
    "print(\"------------------------------------------------------\")\n",
    "U, S, V = np.linalg.svd(Z) # Singular Value Decomposition\n",
    "rank = np.sum(S > 1e-10)\n",
    "print(\"Rank is : \", rank)"
   ]
  },
  {
   "cell_type": "markdown",
   "id": "0a3252f9",
   "metadata": {},
   "source": [
    "# 74. Find the most frequent value in an Array"
   ]
  },
  {
   "cell_type": "code",
   "execution_count": 75,
   "id": "429f2505",
   "metadata": {},
   "outputs": [
    {
     "name": "stdout",
     "output_type": "stream",
     "text": [
      "Initialized Array : \n",
      "[6 7 7 0 9 3 5 7 4 1 5 0 8 7 1 5 3 6 1 2 6 8 8 5 9 3 2 2 5 2 7 6 1 9 3 7 3\n",
      " 3 1 9 4 7 6 4 0 0 7 9 6 1 8 9 2 1 1 7 7 1 0 9 6 1 2 5 8 1 6 9 1 4 4 4 5 4\n",
      " 3 7 7 8 5 0 2 3 7 1 2 7 5 3 6 3 0 4 4 6 8 1 6 8 8 8]\n",
      "------------------------------------------------------\n",
      "1\n"
     ]
    }
   ],
   "source": [
    "Z = np.random.randint(0,10,100)\n",
    "print(\"Initialized Array : \")\n",
    "print(Z)\n",
    "print(\"------------------------------------------------------\")\n",
    "frequent_value = np.bincount(Z).argmax()\n",
    "print(frequent_value)"
   ]
  },
  {
   "cell_type": "markdown",
   "id": "027d6bab",
   "metadata": {},
   "source": [
    "# 75. Extract all the contiguous 3x3 blocks from a random 10x10 matrix"
   ]
  },
  {
   "cell_type": "code",
   "execution_count": 76,
   "id": "90c65ce6",
   "metadata": {},
   "outputs": [
    {
     "name": "stdout",
     "output_type": "stream",
     "text": [
      "Initialized Array : \n",
      "[[3 2 4 4 1 3 3 4 0 1]\n",
      " [0 2 4 0 1 4 1 2 4 2]\n",
      " [2 1 0 1 0 4 1 4 4 2]\n",
      " [1 3 4 2 3 4 1 1 3 1]\n",
      " [4 1 0 2 4 3 1 0 4 1]\n",
      " [2 1 1 3 2 0 3 3 2 3]\n",
      " [4 4 4 3 1 0 3 4 1 3]\n",
      " [2 4 3 3 0 1 2 0 1 3]\n",
      " [0 1 3 3 2 0 4 4 0 1]\n",
      " [3 1 2 3 0 3 3 1 0 3]]\n",
      "------------------------------------------------------\n",
      "[[[[3 2 4]\n",
      "   [0 2 4]\n",
      "   [2 1 0]]\n",
      "\n",
      "  [[2 4 4]\n",
      "   [2 4 0]\n",
      "   [1 0 1]]\n",
      "\n",
      "  [[4 4 1]\n",
      "   [4 0 1]\n",
      "   [0 1 0]]\n",
      "\n",
      "  [[4 1 3]\n",
      "   [0 1 4]\n",
      "   [1 0 4]]\n",
      "\n",
      "  [[1 3 3]\n",
      "   [1 4 1]\n",
      "   [0 4 1]]\n",
      "\n",
      "  [[3 3 4]\n",
      "   [4 1 2]\n",
      "   [4 1 4]]\n",
      "\n",
      "  [[3 4 0]\n",
      "   [1 2 4]\n",
      "   [1 4 4]]\n",
      "\n",
      "  [[4 0 1]\n",
      "   [2 4 2]\n",
      "   [4 4 2]]]\n",
      "\n",
      "\n",
      " [[[0 2 4]\n",
      "   [2 1 0]\n",
      "   [1 3 4]]\n",
      "\n",
      "  [[2 4 0]\n",
      "   [1 0 1]\n",
      "   [3 4 2]]\n",
      "\n",
      "  [[4 0 1]\n",
      "   [0 1 0]\n",
      "   [4 2 3]]\n",
      "\n",
      "  [[0 1 4]\n",
      "   [1 0 4]\n",
      "   [2 3 4]]\n",
      "\n",
      "  [[1 4 1]\n",
      "   [0 4 1]\n",
      "   [3 4 1]]\n",
      "\n",
      "  [[4 1 2]\n",
      "   [4 1 4]\n",
      "   [4 1 1]]\n",
      "\n",
      "  [[1 2 4]\n",
      "   [1 4 4]\n",
      "   [1 1 3]]\n",
      "\n",
      "  [[2 4 2]\n",
      "   [4 4 2]\n",
      "   [1 3 1]]]\n",
      "\n",
      "\n",
      " [[[2 1 0]\n",
      "   [1 3 4]\n",
      "   [4 1 0]]\n",
      "\n",
      "  [[1 0 1]\n",
      "   [3 4 2]\n",
      "   [1 0 2]]\n",
      "\n",
      "  [[0 1 0]\n",
      "   [4 2 3]\n",
      "   [0 2 4]]\n",
      "\n",
      "  [[1 0 4]\n",
      "   [2 3 4]\n",
      "   [2 4 3]]\n",
      "\n",
      "  [[0 4 1]\n",
      "   [3 4 1]\n",
      "   [4 3 1]]\n",
      "\n",
      "  [[4 1 4]\n",
      "   [4 1 1]\n",
      "   [3 1 0]]\n",
      "\n",
      "  [[1 4 4]\n",
      "   [1 1 3]\n",
      "   [1 0 4]]\n",
      "\n",
      "  [[4 4 2]\n",
      "   [1 3 1]\n",
      "   [0 4 1]]]\n",
      "\n",
      "\n",
      " [[[1 3 4]\n",
      "   [4 1 0]\n",
      "   [2 1 1]]\n",
      "\n",
      "  [[3 4 2]\n",
      "   [1 0 2]\n",
      "   [1 1 3]]\n",
      "\n",
      "  [[4 2 3]\n",
      "   [0 2 4]\n",
      "   [1 3 2]]\n",
      "\n",
      "  [[2 3 4]\n",
      "   [2 4 3]\n",
      "   [3 2 0]]\n",
      "\n",
      "  [[3 4 1]\n",
      "   [4 3 1]\n",
      "   [2 0 3]]\n",
      "\n",
      "  [[4 1 1]\n",
      "   [3 1 0]\n",
      "   [0 3 3]]\n",
      "\n",
      "  [[1 1 3]\n",
      "   [1 0 4]\n",
      "   [3 3 2]]\n",
      "\n",
      "  [[1 3 1]\n",
      "   [0 4 1]\n",
      "   [3 2 3]]]\n",
      "\n",
      "\n",
      " [[[4 1 0]\n",
      "   [2 1 1]\n",
      "   [4 4 4]]\n",
      "\n",
      "  [[1 0 2]\n",
      "   [1 1 3]\n",
      "   [4 4 3]]\n",
      "\n",
      "  [[0 2 4]\n",
      "   [1 3 2]\n",
      "   [4 3 1]]\n",
      "\n",
      "  [[2 4 3]\n",
      "   [3 2 0]\n",
      "   [3 1 0]]\n",
      "\n",
      "  [[4 3 1]\n",
      "   [2 0 3]\n",
      "   [1 0 3]]\n",
      "\n",
      "  [[3 1 0]\n",
      "   [0 3 3]\n",
      "   [0 3 4]]\n",
      "\n",
      "  [[1 0 4]\n",
      "   [3 3 2]\n",
      "   [3 4 1]]\n",
      "\n",
      "  [[0 4 1]\n",
      "   [3 2 3]\n",
      "   [4 1 3]]]\n",
      "\n",
      "\n",
      " [[[2 1 1]\n",
      "   [4 4 4]\n",
      "   [2 4 3]]\n",
      "\n",
      "  [[1 1 3]\n",
      "   [4 4 3]\n",
      "   [4 3 3]]\n",
      "\n",
      "  [[1 3 2]\n",
      "   [4 3 1]\n",
      "   [3 3 0]]\n",
      "\n",
      "  [[3 2 0]\n",
      "   [3 1 0]\n",
      "   [3 0 1]]\n",
      "\n",
      "  [[2 0 3]\n",
      "   [1 0 3]\n",
      "   [0 1 2]]\n",
      "\n",
      "  [[0 3 3]\n",
      "   [0 3 4]\n",
      "   [1 2 0]]\n",
      "\n",
      "  [[3 3 2]\n",
      "   [3 4 1]\n",
      "   [2 0 1]]\n",
      "\n",
      "  [[3 2 3]\n",
      "   [4 1 3]\n",
      "   [0 1 3]]]\n",
      "\n",
      "\n",
      " [[[4 4 4]\n",
      "   [2 4 3]\n",
      "   [0 1 3]]\n",
      "\n",
      "  [[4 4 3]\n",
      "   [4 3 3]\n",
      "   [1 3 3]]\n",
      "\n",
      "  [[4 3 1]\n",
      "   [3 3 0]\n",
      "   [3 3 2]]\n",
      "\n",
      "  [[3 1 0]\n",
      "   [3 0 1]\n",
      "   [3 2 0]]\n",
      "\n",
      "  [[1 0 3]\n",
      "   [0 1 2]\n",
      "   [2 0 4]]\n",
      "\n",
      "  [[0 3 4]\n",
      "   [1 2 0]\n",
      "   [0 4 4]]\n",
      "\n",
      "  [[3 4 1]\n",
      "   [2 0 1]\n",
      "   [4 4 0]]\n",
      "\n",
      "  [[4 1 3]\n",
      "   [0 1 3]\n",
      "   [4 0 1]]]\n",
      "\n",
      "\n",
      " [[[2 4 3]\n",
      "   [0 1 3]\n",
      "   [3 1 2]]\n",
      "\n",
      "  [[4 3 3]\n",
      "   [1 3 3]\n",
      "   [1 2 3]]\n",
      "\n",
      "  [[3 3 0]\n",
      "   [3 3 2]\n",
      "   [2 3 0]]\n",
      "\n",
      "  [[3 0 1]\n",
      "   [3 2 0]\n",
      "   [3 0 3]]\n",
      "\n",
      "  [[0 1 2]\n",
      "   [2 0 4]\n",
      "   [0 3 3]]\n",
      "\n",
      "  [[1 2 0]\n",
      "   [0 4 4]\n",
      "   [3 3 1]]\n",
      "\n",
      "  [[2 0 1]\n",
      "   [4 4 0]\n",
      "   [3 1 0]]\n",
      "\n",
      "  [[0 1 3]\n",
      "   [4 0 1]\n",
      "   [1 0 3]]]]\n"
     ]
    }
   ],
   "source": [
    "Z = np.random.randint(0,5,(10,10))\n",
    "print(\"Initialized Array : \")\n",
    "print(Z)\n",
    "print(\"------------------------------------------------------\")\n",
    "n = 3\n",
    "i = 1 + (Z.shape[0]-3)\n",
    "j = 1 + (Z.shape[1]-3)\n",
    "C = stride_tricks.as_strided(Z, shape=(i, j, n, n), strides=Z.strides + Z.strides)\n",
    "print(C)"
   ]
  },
  {
   "cell_type": "markdown",
   "id": "d623e83f",
   "metadata": {},
   "source": [
    "# 76. Convert a `numpy` array into `dictionary`"
   ]
  },
  {
   "cell_type": "code",
   "execution_count": 77,
   "id": "532e634b",
   "metadata": {},
   "outputs": [
    {
     "name": "stdout",
     "output_type": "stream",
     "text": [
      "Initialized Array : \n",
      "[['a' 'b' 'c']\n",
      " ['d' 'e' 'f']\n",
      " ['g' 'h' 'i']]\n",
      "Type :  <class 'numpy.ndarray'>\n",
      "------------------------------------------------------\n",
      "Converted to dictionary : \n",
      "{1: 'a', 2: 'b', 3: 'c', 4: 'd', 5: 'e', 6: 'f', 7: 'g', 8: 'h', 9: 'i'}\n",
      "Type :  <class 'dict'>\n"
     ]
    }
   ],
   "source": [
    "a = np.array([['a', 'b', 'c'],\n",
    "                  ['d', 'e', 'f'],\n",
    "                  ['g', 'h', 'i']])\n",
    "\n",
    "print(\"Initialized Array : \")\n",
    "print(a)\n",
    "print(\"Type : \", type(a))\n",
    "print(\"------------------------------------------------------\")\n",
    "d = dict(enumerate(a.flatten(), 1))\n",
    "print(\"Converted to dictionary : \")\n",
    "print(d)\n",
    "print(\"Type : \", type(d))"
   ]
  },
  {
   "cell_type": "markdown",
   "id": "2b190c3d",
   "metadata": {},
   "source": [
    "# 77. Consider a set of p matrices wich shape (n,n) and a set of p vectors with shape (n,1). How to compute the sum of of the p matrix products at once? (result has shape (n,1))"
   ]
  },
  {
   "cell_type": "code",
   "execution_count": 78,
   "id": "d1e06a7e",
   "metadata": {},
   "outputs": [
    {
     "name": "stdout",
     "output_type": "stream",
     "text": [
      "[[10.]\n",
      " [10.]\n",
      " [10.]\n",
      " [10.]\n",
      " [10.]]\n"
     ]
    }
   ],
   "source": [
    "p, n = 2, 5\n",
    "M = np.ones((p,n,n))\n",
    "V = np.ones((p,n,1))\n",
    "S = np.tensordot(M, V, axes=[[0, 2], [0, 1]])\n",
    "print(S)"
   ]
  },
  {
   "cell_type": "markdown",
   "id": "d0c65021",
   "metadata": {},
   "source": [
    "# 78. Convert a 1D `numpy` array to `list`"
   ]
  },
  {
   "cell_type": "code",
   "execution_count": 79,
   "id": "a937c0c9",
   "metadata": {},
   "outputs": [
    {
     "name": "stdout",
     "output_type": "stream",
     "text": [
      "NumPy Array:\n",
      "[1 2 3]\n",
      "List: [1, 2, 3]\n"
     ]
    }
   ],
   "source": [
    "import numpy as np\n",
    "\n",
    "# 1d array to list\n",
    "arr = np.array([1, 2, 3])\n",
    "print(f'NumPy Array:\\n{arr}')\n",
    "\n",
    "list1 = arr.tolist()\n",
    "print(f'List: {list1}')"
   ]
  },
  {
   "cell_type": "markdown",
   "id": "c8e439ff",
   "metadata": {},
   "source": [
    "# 79. Convert a Multidimensional `numpy` array to `list`"
   ]
  },
  {
   "cell_type": "code",
   "execution_count": 80,
   "id": "1c777024",
   "metadata": {},
   "outputs": [
    {
     "name": "stdout",
     "output_type": "stream",
     "text": [
      "NumPy Array:\n",
      "[[1 2 3]\n",
      " [4 5 6]]\n",
      "List: [[1, 2, 3], [4, 5, 6]]\n"
     ]
    }
   ],
   "source": [
    "import numpy as np\n",
    "\n",
    "# 2d array to list\n",
    "arr = np.array([[1, 2, 3], [4, 5, 6]])\n",
    "\n",
    "print(f'NumPy Array:\\n{arr}')\n",
    "\n",
    "list1 = arr.tolist()\n",
    "\n",
    "print(f'List: {list1}')"
   ]
  },
  {
   "cell_type": "markdown",
   "id": "83c81fe7",
   "metadata": {},
   "source": [
    "# 80. Get the `n` largest value of an `array`"
   ]
  },
  {
   "cell_type": "code",
   "execution_count": 81,
   "id": "716e6b03",
   "metadata": {},
   "outputs": [
    {
     "name": "stdout",
     "output_type": "stream",
     "text": [
      "Nth largest value from an array :  [9999 9998 9997 9995 9996]\n"
     ]
    }
   ],
   "source": [
    "Z = np.arange(10000)\n",
    "np.random.shuffle(Z)\n",
    "n = 5\n",
    "\n",
    "nth_largest_value = Z[np.argpartition(-Z,n)[:n]]\n",
    "print(\"Nth largest value from an array : \", nth_largest_value)"
   ]
  },
  {
   "cell_type": "markdown",
   "id": "e3ae245f",
   "metadata": {},
   "source": [
    "# 81. Given an arbitrary number of vectors, build the cartesian product (every combinations of every item)"
   ]
  },
  {
   "cell_type": "code",
   "execution_count": 82,
   "id": "0c147f21",
   "metadata": {},
   "outputs": [
    {
     "name": "stdout",
     "output_type": "stream",
     "text": [
      "[[1 4 6]\n",
      " [1 4 7]\n",
      " [1 5 6]\n",
      " [1 5 7]\n",
      " [2 4 6]\n",
      " [2 4 7]\n",
      " [2 5 6]\n",
      " [2 5 7]\n",
      " [3 4 6]\n",
      " [3 4 7]\n",
      " [3 5 6]\n",
      " [3 5 7]]\n"
     ]
    }
   ],
   "source": [
    "def cartesian(arrays):\n",
    "    arrays = [np.asarray(a) for a in arrays]\n",
    "    shape = (len(x) for x in arrays)\n",
    "    ix = np.indices(shape, dtype=int)\n",
    "    ix = ix.reshape(len(arrays), -1).T\n",
    "    for n, arr in enumerate(arrays):\n",
    "        ix[:, n] = arrays[n][ix[:, n]]\n",
    "    return ix\n",
    "print (cartesian(([1, 2, 3], [4, 5], [6, 7])))"
   ]
  },
  {
   "cell_type": "markdown",
   "id": "ddd8d540",
   "metadata": {},
   "source": [
    "# 82. How to create a record array from a regular array?"
   ]
  },
  {
   "cell_type": "code",
   "execution_count": 83,
   "id": "ab83d024",
   "metadata": {},
   "outputs": [
    {
     "name": "stdout",
     "output_type": "stream",
     "text": [
      "[(b'Hello', 2.5, 3) (b'World', 3.6, 2)]\n"
     ]
    }
   ],
   "source": [
    "Z = np.array([(\"Hello\", 2.5, 3), (\"World\", 3.6, 2)])\n",
    "R = np.core.records.fromarrays(Z.T, names='col1, col2, col3', formats = 'S8, f8, i8')\n",
    "print(R)"
   ]
  },
  {
   "cell_type": "markdown",
   "id": "b472e906",
   "metadata": {},
   "source": [
    "# 83. Consider a large vector Z, compute Z to the power of 3 using `np.power`"
   ]
  },
  {
   "cell_type": "code",
   "execution_count": 84,
   "id": "a3331b83",
   "metadata": {},
   "outputs": [
    {
     "name": "stdout",
     "output_type": "stream",
     "text": [
      "430 ms ± 9.64 ms per loop (mean ± std. dev. of 7 runs, 1 loop each)\n"
     ]
    }
   ],
   "source": [
    "x = np.random.random(10000000)\n",
    "%timeit np.power(x,3)"
   ]
  },
  {
   "cell_type": "markdown",
   "id": "280aab05",
   "metadata": {},
   "source": [
    "# 84. Consider two arrays `A` and `B` of shape `(8,3)` and `(2,2)`. How to find rows of `A` that contain elements of each row of `B` regardless of the order of the elements in `B`"
   ]
  },
  {
   "cell_type": "code",
   "execution_count": 85,
   "id": "ae0b50d0",
   "metadata": {},
   "outputs": [
    {
     "name": "stdout",
     "output_type": "stream",
     "text": [
      "Vector A\n",
      "[[1 4 3]\n",
      " [3 3 2]\n",
      " [3 2 1]\n",
      " [1 3 3]\n",
      " [3 1 3]\n",
      " [3 0 3]\n",
      " [2 1 3]\n",
      " [1 4 4]]\n",
      "------------------------------------------------------\n",
      "Vector B\n",
      "[[3 4]\n",
      " [2 1]]\n",
      "------------------------------------------------------\n",
      "Result:\n",
      "[0 1 2 3 4 5 6 7]\n"
     ]
    }
   ],
   "source": [
    "A = np.random.randint(0,5,(8,3))\n",
    "B = np.random.randint(0,5,(2,2))\n",
    "\n",
    "print(\"Vector A\")\n",
    "print(A)\n",
    "print(\"------------------------------------------------------\")\n",
    "print(\"Vector B\")\n",
    "print(B)\n",
    "print(\"------------------------------------------------------\")\n",
    "\n",
    "C = (A[..., np.newaxis, np.newaxis] == B)\n",
    "result_rows = (C.sum(axis=(1,2,3)) >= B.shape[1]).nonzero()[0]\n",
    "print(\"Result:\")\n",
    "print(result_rows)"
   ]
  },
  {
   "cell_type": "markdown",
   "id": "7bca4ea5",
   "metadata": {},
   "source": [
    "# 85. Considering a `10x3` matrix, extract rows with unequal values (e.g. `[2,2,3]`)"
   ]
  },
  {
   "cell_type": "code",
   "execution_count": 86,
   "id": "c18ac7e8",
   "metadata": {},
   "outputs": [
    {
     "name": "stdout",
     "output_type": "stream",
     "text": [
      "[[0 0 1]\n",
      " [4 2 3]\n",
      " [4 0 2]\n",
      " [1 0 2]\n",
      " [3 3 0]\n",
      " [3 0 1]\n",
      " [4 3 4]\n",
      " [0 4 0]\n",
      " [3 3 4]\n",
      " [1 0 1]]\n",
      "[[0 0 1]\n",
      " [4 2 3]\n",
      " [4 0 2]\n",
      " [1 0 2]\n",
      " [3 3 0]\n",
      " [3 0 1]\n",
      " [4 3 4]\n",
      " [0 4 0]\n",
      " [3 3 4]\n",
      " [1 0 1]]\n"
     ]
    }
   ],
   "source": [
    "Z = np.random.randint(0,5,(10,3))\n",
    "E = np.logical_and.reduce(Z[:,1:] == Z[:,:-1], axis=1)\n",
    "U = Z[~E]\n",
    "print(Z)\n",
    "print(U)"
   ]
  },
  {
   "cell_type": "markdown",
   "id": "9c493090",
   "metadata": {},
   "source": [
    "# 86. Convert a vector of ints into a matrix binary representation"
   ]
  },
  {
   "cell_type": "code",
   "execution_count": 87,
   "id": "31f61060",
   "metadata": {},
   "outputs": [
    {
     "name": "stdout",
     "output_type": "stream",
     "text": [
      "Initialized array\n",
      "[  0   1   2   3  15  16  32  64 128]\n",
      "------------------------------------------------------\n",
      "[[0 0 0 0 0 0 0 0]\n",
      " [0 0 0 0 0 0 0 1]\n",
      " [0 0 0 0 0 0 1 0]\n",
      " [0 0 0 0 0 0 1 1]\n",
      " [0 0 0 0 1 1 1 1]\n",
      " [0 0 0 1 0 0 0 0]\n",
      " [0 0 1 0 0 0 0 0]\n",
      " [0 1 0 0 0 0 0 0]\n",
      " [1 0 0 0 0 0 0 0]]\n"
     ]
    }
   ],
   "source": [
    "I = np.array([0, 1, 2, 3, 15, 16, 32, 64, 128])\n",
    "print(\"Initialized array\")\n",
    "print(I)\n",
    "print(\"------------------------------------------------------\")\n",
    "B = ((I.reshape(-1,1) & (2**np.arange(8))) != 0).astype(int)\n",
    "print(B[:,::-1])"
   ]
  },
  {
   "cell_type": "markdown",
   "id": "9112f89a",
   "metadata": {},
   "source": [
    "# 87. Extract unique rows from a 2D array"
   ]
  },
  {
   "cell_type": "code",
   "execution_count": 88,
   "id": "749ed957",
   "metadata": {},
   "outputs": [
    {
     "name": "stdout",
     "output_type": "stream",
     "text": [
      "[[0 0 1]\n",
      " [0 1 0]\n",
      " [1 0 1]\n",
      " [1 1 0]\n",
      " [1 1 1]]\n"
     ]
    }
   ],
   "source": [
    "Z = np.random.randint(0,2,(6,3))\n",
    "T = np.ascontiguousarray(Z).view(np.dtype((np.void, Z.dtype.itemsize * Z.shape[1])))\n",
    "_, idx = np.unique(T, return_index=True)\n",
    "uZ = Z[idx]\n",
    "print(uZ)"
   ]
  },
  {
   "cell_type": "markdown",
   "id": "6885bf84",
   "metadata": {},
   "source": [
    "# 88. Considering 2 vectors A & B, write the einsum equivalent of inner, outer, sum, and mul function"
   ]
  },
  {
   "cell_type": "code",
   "execution_count": 89,
   "id": "fa3c365b",
   "metadata": {},
   "outputs": [
    {
     "name": "stdout",
     "output_type": "stream",
     "text": [
      "Addition result :  81\n",
      "Multiplication result :  [  2  12  30  56  90 132 182 240 306]\n",
      "Result :  1050\n",
      "Result :  [[  2   4   6   8  10  12  14  16  18]\n",
      " [  6  12  18  24  30  36  42  48  54]\n",
      " [ 10  20  30  40  50  60  70  80  90]\n",
      " [ 14  28  42  56  70  84  98 112 126]\n",
      " [ 18  36  54  72  90 108 126 144 162]\n",
      " [ 22  44  66  88 110 132 154 176 198]\n",
      " [ 26  52  78 104 130 156 182 208 234]\n",
      " [ 30  60  90 120 150 180 210 240 270]\n",
      " [ 34  68 102 136 170 204 238 272 306]]\n"
     ]
    }
   ],
   "source": [
    "A = np.array([1, 3, 5, 7, 9, 11, 13, 15, 17])\n",
    "B = np.array([2, 4, 6, 8, 10, 12, 14, 16, 18])\n",
    "\n",
    "#Addition, equivalent to np.sum(A)\n",
    "addition_result = np.einsum('i->', A)\n",
    "print(\"Addition result : \", addition_result)\n",
    "\n",
    "#Multiplication, equivalent to A*B\n",
    "multiplication_result = np.einsum('i,i->i', A, B)\n",
    "print(\"Multiplication result : \", multiplication_result)\n",
    "\n",
    "#Equivalent to np.inner(A, B)\n",
    "print(\"Result : \", np.einsum('i,i', A, B))\n",
    "\n",
    "#Equivalent to np.outer(A, B)\n",
    "print(\"Result : \", np.einsum('i,j', A, B))"
   ]
  },
  {
   "cell_type": "markdown",
   "id": "7e48c0bb",
   "metadata": {},
   "source": [
    "# 89. Equidistant Samples:\n",
    "# A Path described by two vectors `(X, Y)`, sample it using `equidistant`"
   ]
  },
  {
   "cell_type": "code",
   "execution_count": 90,
   "id": "de48b84d",
   "metadata": {},
   "outputs": [],
   "source": [
    "phi = np.arange(0, 10*np.pi, 0.1)\n",
    "a = 1\n",
    "x = a*phi*np.cos(phi)\n",
    "y = a*phi*np.sin(phi)\n",
    "dr = (np.diff(x)**2 + np.diff(y)**2)**.5 \n",
    "r = np.zeros_like(x)\n",
    "r[1:] = np.cumsum(dr) \n",
    "r_int = np.linspace(0, r.max(), 200) \n",
    "x_int = np.interp(r_int, r, x) \n",
    "y_int = np.interp(r_int, r, y)"
   ]
  },
  {
   "cell_type": "markdown",
   "id": "f1598cd7",
   "metadata": {},
   "source": [
    "# 90. Convert a vector of ints into a matrix binary representation using `numpy.unpackbits` function"
   ]
  },
  {
   "cell_type": "code",
   "execution_count": 91,
   "id": "772f7df9",
   "metadata": {},
   "outputs": [
    {
     "name": "stdout",
     "output_type": "stream",
     "text": [
      "Initialized array\n",
      "[  0   1   2   3  15  16  32  64 128]\n",
      "------------------------------------------------------\n",
      "[[0 0 0 0 0 0 0 0]\n",
      " [0 0 0 0 0 0 0 1]\n",
      " [0 0 0 0 0 0 1 0]\n",
      " [0 0 0 0 0 0 1 1]\n",
      " [0 0 0 0 1 1 1 1]\n",
      " [0 0 0 1 0 0 0 0]\n",
      " [0 0 1 0 0 0 0 0]\n",
      " [0 1 0 0 0 0 0 0]\n",
      " [1 0 0 0 0 0 0 0]]\n"
     ]
    }
   ],
   "source": [
    "I = np.array([0, 1, 2, 3, 15, 16, 32, 64, 128], dtype=np.uint8)\n",
    "print(\"Initialized array\")\n",
    "print(I)\n",
    "print(\"------------------------------------------------------\")\n",
    "B = np.unpackbits(I[:, np.newaxis], axis=1)\n",
    "print(B)"
   ]
  },
  {
   "cell_type": "markdown",
   "id": "e58b4e3e",
   "metadata": {},
   "source": [
    "# 91. Convert `numpy` to `pandas dataframe`"
   ]
  },
  {
   "cell_type": "code",
   "execution_count": 92,
   "id": "f37e7e86",
   "metadata": {},
   "outputs": [
    {
     "name": "stdout",
     "output_type": "stream",
     "text": [
      "Constructed DataFrame:\n",
      "   Column_A  Column_B  Column_C\n",
      "0        11        22        33\n",
      "1        44        55        66\n",
      "Type of df :  <class 'pandas.core.frame.DataFrame'>\n"
     ]
    }
   ],
   "source": [
    "import pandas as pd\n",
    "my_array = np.array([[11,22,33],[44,55,66]])\n",
    "\n",
    "df = pd.DataFrame(my_array, columns = ['Column_A', 'Column_B', 'Column_C'])\n",
    "\n",
    "print(\"Constructed DataFrame:\")\n",
    "print(df)\n",
    "\n",
    "print(\"Type of df : \", type(df))"
   ]
  },
  {
   "cell_type": "markdown",
   "id": "4dd36141",
   "metadata": {},
   "source": [
    "# 92. Append two `numpy` arrays"
   ]
  },
  {
   "cell_type": "code",
   "execution_count": 93,
   "id": "69905314",
   "metadata": {},
   "outputs": [
    {
     "name": "stdout",
     "output_type": "stream",
     "text": [
      "First Array : \n",
      "[0 1 2 3 4]\n",
      "------------------------------------------------------\n",
      "Second Array : \n",
      "[0 1 2 3]\n",
      "------------------------------------------------------\n",
      "Append result :  [0 1 2 3 4 0 1 2 3]\n"
     ]
    }
   ],
   "source": [
    "array1 = np.arange(5)\n",
    "array2 = np.arange(4)\n",
    "\n",
    "print(\"First Array : \")\n",
    "print(array1)\n",
    "print(\"------------------------------------------------------\")\n",
    "\n",
    "print(\"Second Array : \")\n",
    "print(array2)\n",
    "print(\"------------------------------------------------------\")\n",
    "\n",
    "array3 = np.append(array1, array2)\n",
    "print(\"Append result : \", array3)"
   ]
  },
  {
   "cell_type": "markdown",
   "id": "cb91ac36",
   "metadata": {},
   "source": [
    "# 93. Convert `numpy` to `tuple`"
   ]
  },
  {
   "cell_type": "code",
   "execution_count": 94,
   "id": "66d48b6e",
   "metadata": {},
   "outputs": [
    {
     "name": "stdout",
     "output_type": "stream",
     "text": [
      "Initialized Array : \n",
      "[[ 2  2]\n",
      " [ 2 -2]]\n",
      "The shape of an initialized array :  (2, 2)\n",
      "After converting to tuple :  ((2, 2), (2, -2))\n",
      "Type of the converted result :  <class 'tuple'>\n"
     ]
    }
   ],
   "source": [
    "array = np.array(((2,2),(2,-2)))\n",
    "print(\"Initialized Array : \")\n",
    "print(array)\n",
    "print(\"The shape of an initialized array : \", array.shape)\n",
    "\n",
    "result = tuple(map(tuple, array))\n",
    "print(\"After converting to tuple : \", result)\n",
    "print(\"Type of the converted result : \", type(result))"
   ]
  },
  {
   "cell_type": "markdown",
   "id": "27a8d86f",
   "metadata": {},
   "source": [
    "# 94. `numpy.where` function"
   ]
  },
  {
   "cell_type": "code",
   "execution_count": 95,
   "id": "1baed78d",
   "metadata": {},
   "outputs": [
    {
     "data": {
      "text/plain": [
       "array([[1, 6],\n",
       "       [3, 4]])"
      ]
     },
     "execution_count": 95,
     "metadata": {},
     "output_type": "execute_result"
    }
   ],
   "source": [
    "#The numpy.where() function returns the indices of elements in an input array where the given condition is satisfied.\n",
    "\n",
    "np.where([[True, False], [True, True]], [[1, 2], [3, 4]], [[5, 6], [7, 8]])"
   ]
  },
  {
   "cell_type": "markdown",
   "id": "b77d1cf4",
   "metadata": {},
   "source": [
    "# 95. `numpy.where` element wise condition"
   ]
  },
  {
   "cell_type": "code",
   "execution_count": 96,
   "id": "2a0eddbe",
   "metadata": {},
   "outputs": [
    {
     "name": "stdout",
     "output_type": "stream",
     "text": [
      "Initialized Array : \n",
      "[[1 2 3]\n",
      " [4 5 6]]\n",
      "------------------------------------------------------\n",
      "Indices of elements less than 4\n",
      "(array([0, 0, 0], dtype=int64), array([0, 1, 2], dtype=int64))\n",
      "------------------------------------------------------\n",
      "Elements which are <4\n",
      "[1 2 3]\n"
     ]
    }
   ],
   "source": [
    "array_a = np.array([[1, 2, 3], [4, 5, 6]])\n",
    "print(\"Initialized Array : \")\n",
    "print(array_a)\n",
    "print(\"------------------------------------------------------\")\n",
    "print(\"Indices of elements less than 4\")\n",
    "result_indices = np.where(array_a < 4)\n",
    "print(result_indices)\n",
    "print(\"------------------------------------------------------\")\n",
    "print(\"Elements which are <4\")\n",
    "print(array_a[result_indices])"
   ]
  },
  {
   "cell_type": "markdown",
   "id": "74a17b2f",
   "metadata": {},
   "source": [
    "# 96. Change the sign of a `float` in place"
   ]
  },
  {
   "cell_type": "code",
   "execution_count": 97,
   "id": "68adb6c0",
   "metadata": {},
   "outputs": [
    {
     "name": "stdout",
     "output_type": "stream",
     "text": [
      "Initialized Array \n",
      "[-0.34516318  0.80014851 -0.16169106 -0.04619318 -0.74179261 -0.54105662\n",
      "  0.80540289 -0.46311621 -0.70613809 -0.96981911 -0.54517793 -0.98802192\n",
      "  0.30680648 -0.40172581  0.40350349  0.52892047 -0.18436784 -0.07175675\n",
      "  0.52422376  0.18842291  0.07889794  0.0948806   0.58853009  0.11765263\n",
      "  0.32286339 -0.59781554  0.18347588 -0.11936851 -0.55916007  0.28880713\n",
      "  0.21941255 -0.62746234  0.91162108 -0.90270978  0.81852604  0.93802646\n",
      " -0.78408044  0.67969089 -0.65450075 -0.95209683 -0.41168882  0.98971012\n",
      "  0.52091706 -0.65347938  0.29084728 -0.59189247 -0.89437767  0.65146442\n",
      "  0.23671913 -0.51749179 -0.20364076 -0.08164564 -0.37687288  0.59305599\n",
      "  0.17553952 -0.47260853 -0.34411897 -0.08406206  0.48196634  0.03321039\n",
      "  0.39495615 -0.68651552 -0.73356712  0.06206275 -0.24762826 -0.60169561\n",
      " -0.84918842  0.73326218 -0.54589267 -0.80310744 -0.2824881   0.35307565\n",
      " -0.67777508 -0.99808703  0.64203301  0.30098685 -0.66849587 -0.1523959\n",
      " -0.16844496 -0.55949263  0.03805921  0.45805113 -0.11301341  0.21873423\n",
      " -0.1892484   0.26864946  0.33385212  0.85989795  0.47465172 -0.23131504\n",
      " -0.55603148  0.84361484  0.13931634  0.68612082  0.68866501 -0.66145984\n",
      " -0.88662201  0.55213864 -0.64174572  0.67431771]\n",
      "------------------------------------------------------\n",
      "Result after negation\n",
      "[0. 0. 0. 0. 0. 0. 0. 0. 0. 0. 0. 0. 0. 0. 0. 0. 0. 0. 0. 0. 0. 0. 0. 0.\n",
      " 0. 0. 0. 0. 0. 0. 0. 0. 0. 0. 0. 0. 0. 0. 0. 0. 0. 0. 0. 0. 0. 0. 0. 0.\n",
      " 0. 0. 0. 0. 0. 0. 0. 0. 0. 0. 0. 0. 0. 0. 0. 0. 0. 0. 0. 0. 0. 0. 0. 0.\n",
      " 0. 0. 0. 0. 0. 0. 0. 0. 0. 0. 0. 0. 0. 0. 0. 0. 0. 0. 0. 0. 0. 0. 0. 0.\n",
      " 0. 0. 0. 0.]\n"
     ]
    }
   ],
   "source": [
    "Z = np.random.uniform(-1.0,1.0,100)\n",
    "print(\"Initialized Array \")\n",
    "print(Z)\n",
    "print(\"------------------------------------------------------\")\n",
    "print(\"Result after negation\")\n",
    "result = np.logical_not(Z, out=Z)\n",
    "print(result)"
   ]
  },
  {
   "cell_type": "markdown",
   "id": "fce91bbe",
   "metadata": {},
   "source": [
    "# 97. Consider a large vector Z, compute Z to the power of 3 using `arithmetic` operation"
   ]
  },
  {
   "cell_type": "code",
   "execution_count": 98,
   "id": "ba1b630c",
   "metadata": {},
   "outputs": [
    {
     "name": "stdout",
     "output_type": "stream",
     "text": [
      "98.4 ms ± 1.06 ms per loop (mean ± std. dev. of 7 runs, 10 loops each)\n"
     ]
    }
   ],
   "source": [
    "x = np.random.random(10000000)\n",
    "%timeit x*x*x"
   ]
  },
  {
   "cell_type": "markdown",
   "id": "34788b92",
   "metadata": {},
   "source": [
    "# 98. Consider a large vector Z, compute Z to the power of 3 using `numpy` `einsum` function"
   ]
  },
  {
   "cell_type": "code",
   "execution_count": 99,
   "id": "8acd553c",
   "metadata": {},
   "outputs": [
    {
     "name": "stdout",
     "output_type": "stream",
     "text": [
      "52.6 ms ± 519 µs per loop (mean ± std. dev. of 7 runs, 10 loops each)\n"
     ]
    }
   ],
   "source": [
    "x = np.random.random(10000000)\n",
    "%timeit np.einsum('i,i,i->i',x,x,x)"
   ]
  },
  {
   "cell_type": "markdown",
   "id": "c6a02ec0",
   "metadata": {},
   "source": [
    "# 99. `numpy.any()` The `numpy.any()` function tests whether any array elements along the mentioned axis evaluate to `True`"
   ]
  },
  {
   "cell_type": "code",
   "execution_count": 100,
   "id": "a322bbc0",
   "metadata": {},
   "outputs": [
    {
     "name": "stdout",
     "output_type": "stream",
     "text": [
      "Boolean Value with axis = NONE  :  True\n",
      "Boolean Value with axis = 0  :  [ True  True]\n",
      "Boolean value for :  True\n"
     ]
    }
   ],
   "source": [
    "#Axis = NONE\n",
    "print(\"Boolean Value with axis = NONE  : \", np.any([[True,False],[True,True]]))\n",
    "\n",
    "#Axis = 0\n",
    "print(\"Boolean Value with axis = 0  : \", np.any([[True,False],[True,True]], axis = 0))\n",
    "\n",
    "print(\"Boolean value for : \", np.any([-1, 4, 5]))"
   ]
  },
  {
   "cell_type": "markdown",
   "id": "21fc6090",
   "metadata": {},
   "source": [
    "# 100. The `numpy.not_equal()` checks whether two element or unequal or not"
   ]
  },
  {
   "cell_type": "code",
   "execution_count": 101,
   "id": "b63f458a",
   "metadata": {},
   "outputs": [
    {
     "name": "stdout",
     "output_type": "stream",
     "text": [
      "Not equal : \n",
      " [False  True] \n",
      "\n",
      "Not equal : \n",
      " [[False  True]\n",
      " [False  True]] \n",
      "\n"
     ]
    }
   ],
   "source": [
    "a  = np.not_equal([1., 2.], [1., 3.])\n",
    "print(\"Not equal : \\n\", a, \"\\n\")\n",
    " \n",
    "b = np.not_equal([1, 2], [[1, 3],[1, 4]])\n",
    "print(\"Not equal : \\n\", b, \"\\n\")"
   ]
  }
 ],
 "metadata": {
  "kernelspec": {
   "display_name": "Python 3 (ipykernel)",
   "language": "python",
   "name": "python3"
  },
  "language_info": {
   "codemirror_mode": {
    "name": "ipython",
    "version": 3
   },
   "file_extension": ".py",
   "mimetype": "text/x-python",
   "name": "python",
   "nbconvert_exporter": "python",
   "pygments_lexer": "ipython3",
   "version": "3.9.12"
  }
 },
 "nbformat": 4,
 "nbformat_minor": 5
}
